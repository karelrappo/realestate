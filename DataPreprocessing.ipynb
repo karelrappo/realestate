{
 "cells": [
  {
   "cell_type": "code",
   "execution_count": null,
   "id": "044337c2",
   "metadata": {},
   "outputs": [],
   "source": [
    "import sys\n",
    "from config import *\n",
    "print(sys.path)\n",
    "path = sys.path[0]"
   ]
  },
  {
   "cell_type": "code",
   "execution_count": null,
   "id": "adbc50e7",
   "metadata": {},
   "outputs": [],
   "source": [
    "import pandas as pd\n",
    "import numpy as np"
   ]
  },
  {
   "cell_type": "code",
   "execution_count": null,
   "id": "99f01ff2",
   "metadata": {},
   "outputs": [],
   "source": [
    "full_path = f'{path}/data/2022-10-30/apartments/sale/harju/properties.csv'\n",
    "data = pd.read_csv(full_path, index_col=0)\n",
    "data.columns"
   ]
  },
  {
   "cell_type": "code",
   "execution_count": null,
   "id": "b2bd19ad",
   "metadata": {},
   "outputs": [],
   "source": [
    "DROP_COLS = ['Date','Omandiõigus','Turvasüsteem','Krunt', 'Vannitube'\n",
    "             ,'Pliit','Side','Tagatisraha','Kinnistu number'\n",
    "             ,'Katus','Lisanduvad kommunaalkulud','Lisainfo','Parkimiskohti'\n",
    "             ,'tasuline parkimine','Piirangud','Maakleritasu','Lisanduvad kommunaalid'\n",
    "             ,'Lisaväärtused','Lisaruumid','Parkimine','tasuta parkimine','Ventilatsioon','Suve kommunaalid','Talve kommunaalid']\n",
    "df = data.drop(DROP_COLS, axis=1)\n",
    "df.columns"
   ]
  },
  {
   "cell_type": "code",
   "execution_count": null,
   "id": "9c0fd7d5",
   "metadata": {},
   "outputs": [],
   "source": [
    "COLUMN_MAPPING = {'Seisukord':'condition','Tube':'rooms','Magamistube':'bedrooms','Üldpind':'area','Korrus':'floor',\n",
    "                 'Korruseid kokku':'total_floors','Hind':'price','Energiamärgis':'energy_label','Materjal':'house_material',\n",
    "                 'Ehitusaasta':'year','Küte':'heating','Sanitaar':'sanitary','Lift':'lift','Rõdu':'balcony','Rõdu pind':'balcony_size','Address':'address'}\n",
    "df.rename(columns=COLUMN_MAPPING, inplace=True)\n",
    "df.columns"
   ]
  },
  {
   "cell_type": "code",
   "execution_count": null,
   "id": "18c25ecd",
   "metadata": {},
   "outputs": [],
   "source": [
    "df['relative_price'] = df['price']/df['area']\n",
    "df = df[df['relative_price'] >500]\n",
    "df.drop('relative_price', inplace=True,axis=1)\n",
    "df.describe()\n"
   ]
  },
  {
   "cell_type": "code",
   "execution_count": null,
   "id": "e937a643",
   "metadata": {},
   "outputs": [],
   "source": [
    "# Dropping rows without the most important data\n",
    "df = df[~df['price'].isna()]\n",
    "df = df[~df['area'].isna()]\n",
    "df = df[~df['floor'].isna()]\n",
    "# Losing a lot of entries with removing nulls but simply using mean or dropping the column does not make sense\n",
    "df = df[~df['year'].isnull()]\n",
    "df = df[~df['rooms'].isnull()]\n"
   ]
  },
  {
   "cell_type": "code",
   "execution_count": null,
   "id": "7d21cb91",
   "metadata": {},
   "outputs": [],
   "source": [
    "df['city'] = df['District'].apply(lambda x: x.split(\",\")[-2])\n",
    "df['district'] = df['District'].apply(lambda x: x.split(\",\")[-3] if len(x.split(\",\"))>=3 else x.split(\",\")[-2])\n",
    "df.drop('District',axis=1,inplace=True)"
   ]
  },
  {
   "cell_type": "code",
   "execution_count": null,
   "id": "b0801d7b",
   "metadata": {},
   "outputs": [],
   "source": [
    "# If not provided, assume no balcony\n",
    "df['balcony_size'] = df['balcony_size'].fillna(0)\n",
    "df['balcony'] = df['balcony'].fillna(0)\n",
    "\n",
    "def check_values(col1, col2):\n",
    "    \"\"\"Simple function to check if boths inputs are 0.\"\"\"\n",
    "    response = 1 if col1!=0 or col2!=0 else 0\n",
    "    return(response)\n",
    "\n",
    "# Apply the created function for each row to see if balcony exists.    \n",
    "df['flag_balcony'] = df.apply(lambda x: check_values(x.balcony_size, x.balcony), axis=1)\n",
    "df['flag_lift'] = (~df['lift'].isna()).astype(int)\n",
    "df.drop(['lift','balcony_size','balcony'], axis=1, inplace=True)"
   ]
  },
  {
   "cell_type": "code",
   "execution_count": null,
   "id": "32adeb53",
   "metadata": {},
   "outputs": [],
   "source": [
    "sns.heatmap(df.isnull())"
   ]
  },
  {
   "cell_type": "code",
   "execution_count": null,
   "id": "2467fdd4",
   "metadata": {},
   "outputs": [],
   "source": [
    "df['energy_label'].unique()"
   ]
  },
  {
   "cell_type": "code",
   "execution_count": null,
   "id": "8f7a8150",
   "metadata": {},
   "outputs": [],
   "source": [
    "df['sanitary'].unique()[0:15]"
   ]
  },
  {
   "cell_type": "code",
   "execution_count": null,
   "id": "f2f80ce0",
   "metadata": {},
   "outputs": [],
   "source": [
    "df['heating'].unique()[0:15]"
   ]
  },
  {
   "cell_type": "code",
   "execution_count": null,
   "id": "9158f423",
   "metadata": {},
   "outputs": [],
   "source": [
    "# In order to preserve as much data as possible, filling NAs. Useful for feature engineering later.\n",
    "df['house_material'] = df['house_material'].fillna('Unknown')\n",
    "df['heating'] = df['heating'].fillna('Unknown')\n",
    "df['condition'] = df['condition'].fillna('Unknown')\n",
    "df['sanitary'] = df['sanitary'].fillna('Unknown')\n",
    "df['energy_label'] = df['energy_label'].fillna('energiamärgis määramata')\n",
    "df = df.replace(\"A,A\",\"A\")"
   ]
  },
  {
   "cell_type": "code",
   "execution_count": null,
   "id": "407bb7fd",
   "metadata": {},
   "outputs": [],
   "source": [
    "#Create dummies for most important items\n",
    "df['flag_shower'] = df['sanitary'].apply(lambda x: int('dušš' in x.strip().lower()))\n",
    "df['flag_bath'] = df['sanitary'].apply(lambda x: int('vann' in x.strip().lower()))\n",
    "df['flag_sauna'] = df['sanitary'].apply(lambda x: int('saun' in x.strip().lower()))\n",
    "df['flag_generalheat'] = df['heating'].apply(lambda x: int('keskküte' in x.strip().lower()))\n",
    "df['flag_floorheat'] = df['heating'].apply(lambda x: int('põrandaküte' in x.strip().lower()))\n",
    "df['flag_gasheat'] = df['heating'].apply(lambda x: int('gaasiküte' in x.strip().lower()))\n",
    "df['flag_electricalheat'] = df['heating'].apply(lambda x: int('õhksoojuspump' in x.strip().lower()))\n",
    "df.drop('heating', axis=1, inplace=True)\n",
    "df.drop('sanitary', axis=1, inplace=True)"
   ]
  },
  {
   "cell_type": "code",
   "execution_count": null,
   "id": "aa5081fc",
   "metadata": {},
   "outputs": [],
   "source": [
    "df = df[df['bedrooms']!=6]\n",
    "df = df[df['rooms']<9]\n",
    "df = df[df['floor']<=30.0]"
   ]
  },
  {
   "cell_type": "code",
   "execution_count": null,
   "id": "f539adec",
   "metadata": {},
   "outputs": [],
   "source": [
    "df.info()"
   ]
  },
  {
   "cell_type": "code",
   "execution_count": null,
   "id": "64cedba1",
   "metadata": {},
   "outputs": [],
   "source": [
    "# Imputing with means based on most correlated features\n",
    "df['total_floors'] = df['total_floors'].fillna(df.groupby('floor')['total_floors'].transform('mean').map(int))\n",
    "df['bedrooms'] = df['bedrooms'].fillna(df.groupby('rooms')['bedrooms'].transform('mean').map(int))"
   ]
  },
  {
   "cell_type": "code",
   "execution_count": null,
   "id": "6f6f5a39",
   "metadata": {},
   "outputs": [],
   "source": [
    "plt.figure(figsize=(16, 6))\n",
    "correlations = sns.heatmap(df.corr(), annot=True)\n",
    "correlations.set_title('Correlations of features', fontdict={'fontsize':12}, pad=12);"
   ]
  },
  {
   "cell_type": "code",
   "execution_count": null,
   "id": "522f6996",
   "metadata": {},
   "outputs": [],
   "source": [
    "df['house_material'].unique()[0:15]"
   ]
  },
  {
   "cell_type": "code",
   "execution_count": null,
   "id": "40a0cfb1",
   "metadata": {},
   "outputs": [],
   "source": [
    "df['flag_brick'] = df['house_material'].apply(lambda x: int('plokkmaja' in x.strip().lower()))\n",
    "df['flag_panel'] = df['house_material'].apply(lambda x: int('paneelmaja' in x.strip().lower()))\n",
    "df['flag_beton'] = df['house_material'].apply(lambda x: int('betoonmaja' in x.strip().lower()))\n",
    "df['flag_stone'] = df['house_material'].apply(lambda x: int('kivimaja' in x.strip().lower()))\n",
    "df['flag_wood'] = df['house_material'].apply(lambda x: int('puitmaja' in x.strip().lower()))\n",
    "df.drop('house_material', axis=1, inplace=True)"
   ]
  },
  {
   "cell_type": "code",
   "execution_count": null,
   "id": "5cf4c5df",
   "metadata": {},
   "outputs": [],
   "source": [
    "df['condition'].unique()[0:15]"
   ]
  },
  {
   "cell_type": "code",
   "execution_count": null,
   "id": "c6a2ffd1",
   "metadata": {},
   "outputs": [],
   "source": [
    "df['flag_newbuilding'] = df['condition'].apply(lambda x: int('uusehitis' in x.strip().lower()))\n",
    "df['flag_indevelopment'] = df['condition'].apply(lambda x: int('valmimisjärgus' in x.strip().lower()))\n",
    "df['flag_renovated'] = df['condition'].apply(lambda x: int('renoveeritud' in x.strip().lower()))\n",
    "df['flag_needsrenovation'] = df['condition'].apply(lambda x: int('vajab renoveerimist' in x.strip().lower()))\n",
    "df.drop('condition', axis=1, inplace=True)"
   ]
  },
  {
   "cell_type": "code",
   "execution_count": null,
   "id": "aca921eb",
   "metadata": {},
   "outputs": [],
   "source": [
    "summary = df.describe()\n",
    "for col in summary:\n",
    "    if col[0:4]=='flag':\n",
    "        print(\"There are \"+str(round(summary[col][1]*summary[col][0]))+\" entries for \"+col)"
   ]
  },
  {
   "cell_type": "markdown",
   "id": "ca05c9ad",
   "metadata": {},
   "source": [
    "### Geocoding"
   ]
  },
  {
   "cell_type": "code",
   "execution_count": null,
   "id": "579425cc",
   "metadata": {},
   "outputs": [],
   "source": [
    "import requests\n",
    "\n",
    "def get_geodata(address):\n",
    "    zipcode = None\n",
    "    api_key = GOOGLE_API_KEY\n",
    "    base_url = \"https://maps.googleapis.com/maps/api/geocode/json\"\n",
    "    url = f\"{base_url}?address={address}&key={api_key}\"\n",
    "    r = requests.get(url)\n",
    "    if r.status_code not in range(200, 299):\n",
    "        return None\n",
    "    else:\n",
    "        results = r.json()['results'][0]\n",
    "        lat = results['geometry']['location']['lat']\n",
    "        lng = results['geometry']['location']['lng']\n",
    "        comps = results['address_components']\n",
    "        for i in range(0,len(comps)):\n",
    "            if 'postal_code' in comps[i]['types']:\n",
    "                zipcode = comps[i]['short_name']\n",
    "    return zipcode, lat, lng\n",
    "\n",
    "def add_geodata(row):\n",
    "    column_name = 'address'\n",
    "    address_value = row[column_name]\n",
    "    zipcode, lat, lng = get_geodata(address_value)\n",
    "    row['zipcode'] = zipcode\n",
    "    row['lat'] = lat\n",
    "    row['lng'] = lng\n",
    "    return row\n"
   ]
  },
  {
   "cell_type": "code",
   "execution_count": null,
   "id": "9b3b4ff9",
   "metadata": {},
   "outputs": [],
   "source": [
    "#Create zipcodes\n",
    "df = df.apply(add_geodata, axis=1) # axis=1 is important to use the row itself\n"
   ]
  },
  {
   "cell_type": "code",
   "execution_count": null,
   "id": "50c23cae",
   "metadata": {},
   "outputs": [],
   "source": [
    "df[['zipcode']] = df[['zipcode']].fillna(0)"
   ]
  },
  {
   "cell_type": "code",
   "execution_count": null,
   "id": "8b499afe",
   "metadata": {},
   "outputs": [],
   "source": [
    "df.info()"
   ]
  },
  {
   "cell_type": "code",
   "execution_count": null,
   "id": "79bb191c",
   "metadata": {},
   "outputs": [],
   "source": [
    "from datetime import datetime\n",
    "today = datetime.today().strftime('%Y-%m-%d')"
   ]
  },
  {
   "cell_type": "code",
   "execution_count": null,
   "id": "779f9f77",
   "metadata": {},
   "outputs": [],
   "source": [
    "df.to_csv(f'data/{today}_DataCleaned.csv')"
   ]
  }
 ],
 "metadata": {
  "kernelspec": {
   "display_name": "Python 3.10.4 64-bit",
   "language": "python",
   "name": "python3"
  },
  "language_info": {
   "codemirror_mode": {
    "name": "ipython",
    "version": 3
   },
   "file_extension": ".py",
   "mimetype": "text/x-python",
   "name": "python",
   "nbconvert_exporter": "python",
   "pygments_lexer": "ipython3",
   "version": "3.10.4"
  },
  "vscode": {
   "interpreter": {
    "hash": "3ad933181bd8a04b432d3370b9dc3b0662ad032c4dfaa4e4f1596c548f763858"
   }
  }
 },
 "nbformat": 4,
 "nbformat_minor": 5
}
