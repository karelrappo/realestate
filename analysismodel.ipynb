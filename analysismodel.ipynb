{
 "cells": [
  {
   "cell_type": "markdown",
   "id": "780c7d57",
   "metadata": {
    "papermill": {
     "duration": 0.010797,
     "end_time": "2022-10-26T18:34:26.155481",
     "exception": false,
     "start_time": "2022-10-26T18:34:26.144684",
     "status": "completed"
    },
    "tags": []
   },
   "source": [
    "# Import and clean data"
   ]
  },
  {
   "cell_type": "code",
   "execution_count": 1,
   "id": "d08dd8bb",
   "metadata": {
    "execution": {
     "iopub.execute_input": "2022-10-26T18:34:26.177067Z",
     "iopub.status.busy": "2022-10-26T18:34:26.176186Z",
     "iopub.status.idle": "2022-10-26T18:34:27.117571Z",
     "shell.execute_reply": "2022-10-26T18:34:27.116459Z"
    },
    "papermill": {
     "duration": 0.955023,
     "end_time": "2022-10-26T18:34:27.120224",
     "exception": false,
     "start_time": "2022-10-26T18:34:26.165201",
     "status": "completed"
    },
    "tags": []
   },
   "outputs": [],
   "source": [
    "import pandas as pd\n",
    "import matplotlib.pyplot as plt\n",
    "import seaborn as sns"
   ]
  },
  {
   "cell_type": "code",
   "execution_count": 2,
   "id": "e85cd334",
   "metadata": {
    "execution": {
     "iopub.execute_input": "2022-10-26T18:34:27.140487Z",
     "iopub.status.busy": "2022-10-26T18:34:27.140077Z",
     "iopub.status.idle": "2022-10-26T18:34:27.145364Z",
     "shell.execute_reply": "2022-10-26T18:34:27.144079Z"
    },
    "papermill": {
     "duration": 0.018233,
     "end_time": "2022-10-26T18:34:27.147831",
     "exception": false,
     "start_time": "2022-10-26T18:34:27.129598",
     "status": "completed"
    },
    "tags": []
   },
   "outputs": [],
   "source": [
    "path = '/kaggle/input/real-estate-estonia/data/2022-10-23/apartments/sale/harju/properties.csv'"
   ]
  },
  {
   "cell_type": "code",
   "execution_count": 3,
   "id": "333d91d7",
   "metadata": {
    "execution": {
     "iopub.execute_input": "2022-10-26T18:34:27.168298Z",
     "iopub.status.busy": "2022-10-26T18:34:27.167921Z",
     "iopub.status.idle": "2022-10-26T18:34:27.242032Z",
     "shell.execute_reply": "2022-10-26T18:34:27.240804Z"
    },
    "papermill": {
     "duration": 0.087368,
     "end_time": "2022-10-26T18:34:27.244707",
     "exception": false,
     "start_time": "2022-10-26T18:34:27.157339",
     "status": "completed"
    },
    "tags": []
   },
   "outputs": [],
   "source": [
    "data = pd.read_csv(path, index_col=0)"
   ]
  },
  {
   "cell_type": "code",
   "execution_count": 4,
   "id": "97738a7c",
   "metadata": {
    "execution": {
     "iopub.execute_input": "2022-10-26T18:34:27.267763Z",
     "iopub.status.busy": "2022-10-26T18:34:27.267045Z",
     "iopub.status.idle": "2022-10-26T18:34:27.276983Z",
     "shell.execute_reply": "2022-10-26T18:34:27.275682Z"
    },
    "papermill": {
     "duration": 0.02279,
     "end_time": "2022-10-26T18:34:27.279146",
     "exception": false,
     "start_time": "2022-10-26T18:34:27.256356",
     "status": "completed"
    },
    "tags": []
   },
   "outputs": [
    {
     "data": {
      "text/plain": [
       "Index(['Seisukord', 'Tube', 'Magamistube', 'Üldpind', 'Korrus',\n",
       "       'Korruseid kokku', 'Omandiõigus', 'Turvasüsteem', 'Hind',\n",
       "       'Energiamärgis', 'Materjal', 'Ehitusaasta', 'Küte', 'Sanitaar',\n",
       "       'Vannitube', 'Lisaväärtused', 'Lisaruumid', 'Pliit', 'Side',\n",
       "       'Rõdu pind', 'Tagatisraha', 'Suve kommunaalid', 'Talve kommunaalid',\n",
       "       'Kinnistu number', 'Lift', 'Rõdu', 'Parkimine', 'Katus', 'Krunt',\n",
       "       'Lisanduvad kommunaalkulud', 'Lisainfo', 'tasuta parkimine',\n",
       "       'Ventilatsioon', 'Parkimiskohti', 'tasuline parkimine',\n",
       "       'Lisanduvad kommunaalid', 'Maakleritasu', 'Piirangud'],\n",
       "      dtype='object')"
      ]
     },
     "execution_count": 4,
     "metadata": {},
     "output_type": "execute_result"
    }
   ],
   "source": [
    "data.columns"
   ]
  },
  {
   "cell_type": "code",
   "execution_count": 5,
   "id": "a410c77f",
   "metadata": {
    "execution": {
     "iopub.execute_input": "2022-10-26T18:34:27.300001Z",
     "iopub.status.busy": "2022-10-26T18:34:27.299599Z",
     "iopub.status.idle": "2022-10-26T18:34:27.314289Z",
     "shell.execute_reply": "2022-10-26T18:34:27.313253Z"
    },
    "papermill": {
     "duration": 0.028165,
     "end_time": "2022-10-26T18:34:27.316799",
     "exception": false,
     "start_time": "2022-10-26T18:34:27.288634",
     "status": "completed"
    },
    "tags": []
   },
   "outputs": [],
   "source": [
    "# Dropping uninformative columns with little to no values\n",
    "DROP_COLS = ['Omandiõigus','Turvasüsteem','Krunt', 'Vannitube'\n",
    "             ,'Pliit','Side','Tagatisraha','Kinnistu number'\n",
    "             ,'Katus','Lisanduvad kommunaalkulud','Lisainfo','Parkimiskohti'\n",
    "             ,'tasuline parkimine','Piirangud','Maakleritasu','Lisanduvad kommunaalid'\n",
    "             ,'Lisaväärtused','Lisaruumid','Parkimine','tasuta parkimine','Ventilatsioon','Suve kommunaalid','Talve kommunaalid']\n",
    "df = data.drop(DROP_COLS, axis=1)\n",
    "df = df[~df['Hind'].isna()]\n",
    "df = df[~df['Üldpind'].isna()]\n",
    "df = df[~df['Tube'].isna()]\n"
   ]
  },
  {
   "cell_type": "code",
   "execution_count": 6,
   "id": "009f3bce",
   "metadata": {
    "execution": {
     "iopub.execute_input": "2022-10-26T18:34:27.337509Z",
     "iopub.status.busy": "2022-10-26T18:34:27.337133Z",
     "iopub.status.idle": "2022-10-26T18:34:27.347055Z",
     "shell.execute_reply": "2022-10-26T18:34:27.346208Z"
    },
    "papermill": {
     "duration": 0.023024,
     "end_time": "2022-10-26T18:34:27.349362",
     "exception": false,
     "start_time": "2022-10-26T18:34:27.326338",
     "status": "completed"
    },
    "tags": []
   },
   "outputs": [],
   "source": [
    "df = df[~df['Hind'].isna()]\n",
    "df = df[~df['Üldpind'].isna()]\n",
    "df = df[~df['Tube'].isna()]"
   ]
  },
  {
   "cell_type": "code",
   "execution_count": 7,
   "id": "18d5298e",
   "metadata": {
    "execution": {
     "iopub.execute_input": "2022-10-26T18:34:27.370154Z",
     "iopub.status.busy": "2022-10-26T18:34:27.369260Z",
     "iopub.status.idle": "2022-10-26T18:34:27.379878Z",
     "shell.execute_reply": "2022-10-26T18:34:27.379037Z"
    },
    "papermill": {
     "duration": 0.023414,
     "end_time": "2022-10-26T18:34:27.382106",
     "exception": false,
     "start_time": "2022-10-26T18:34:27.358692",
     "status": "completed"
    },
    "tags": []
   },
   "outputs": [],
   "source": [
    "df['Rõdu pind'] = df['Rõdu pind'] .fillna(0)\n",
    "df['flag_balcony'] = (df['Rõdu pind']!=0).astype(int)\n",
    "df['flag_lift'] = (~df['Lift'].isna()).astype(int)\n",
    "df.drop(['Rõdu','Rõdu pind','Lift'], axis=1, inplace=True)"
   ]
  },
  {
   "cell_type": "code",
   "execution_count": 8,
   "id": "2d3a6a1a",
   "metadata": {
    "execution": {
     "iopub.execute_input": "2022-10-26T18:34:27.403373Z",
     "iopub.status.busy": "2022-10-26T18:34:27.402523Z",
     "iopub.status.idle": "2022-10-26T18:34:27.919337Z",
     "shell.execute_reply": "2022-10-26T18:34:27.918183Z"
    },
    "papermill": {
     "duration": 0.530544,
     "end_time": "2022-10-26T18:34:27.922015",
     "exception": false,
     "start_time": "2022-10-26T18:34:27.391471",
     "status": "completed"
    },
    "tags": []
   },
   "outputs": [
    {
     "data": {
      "text/plain": [
       "<AxesSubplot:>"
      ]
     },
     "execution_count": 8,
     "metadata": {},
     "output_type": "execute_result"
    },
    {
     "data": {
      "image/png": "[encoded data removed]",
      "text/plain": [
       "<Figure size 432x288 with 2 Axes>"
      ]
     },
     "metadata": {
      "needs_background": "light"
     },
     "output_type": "display_data"
    }
   ],
   "source": [
    "sns.heatmap(df.isnull())"
   ]
  },
  {
   "cell_type": "code",
   "execution_count": 9,
   "id": "43a94946",
   "metadata": {
    "execution": {
     "iopub.execute_input": "2022-10-26T18:34:27.943963Z",
     "iopub.status.busy": "2022-10-26T18:34:27.943537Z",
     "iopub.status.idle": "2022-10-26T18:34:27.952106Z",
     "shell.execute_reply": "2022-10-26T18:34:27.950730Z"
    },
    "papermill": {
     "duration": 0.022359,
     "end_time": "2022-10-26T18:34:27.954481",
     "exception": false,
     "start_time": "2022-10-26T18:34:27.932122",
     "status": "completed"
    },
    "tags": []
   },
   "outputs": [
    {
     "data": {
      "text/plain": [
       "array(['energiamärgis määramata', 'A', 'B', 'E', 'C', 'D', nan, 'F', 'H',\n",
       "       'G', 'A,A'], dtype=object)"
      ]
     },
     "execution_count": 9,
     "metadata": {},
     "output_type": "execute_result"
    }
   ],
   "source": [
    "df['Energiamärgis'].unique()"
   ]
  },
  {
   "cell_type": "code",
   "execution_count": 10,
   "id": "c9f7a7e7",
   "metadata": {
    "execution": {
     "iopub.execute_input": "2022-10-26T18:34:27.976686Z",
     "iopub.status.busy": "2022-10-26T18:34:27.976299Z",
     "iopub.status.idle": "2022-10-26T18:34:27.984851Z",
     "shell.execute_reply": "2022-10-26T18:34:27.983692Z"
    },
    "papermill": {
     "duration": 0.022597,
     "end_time": "2022-10-26T18:34:27.987263",
     "exception": false,
     "start_time": "2022-10-26T18:34:27.964666",
     "status": "completed"
    },
    "tags": []
   },
   "outputs": [
    {
     "data": {
      "text/plain": [
       "array(['dušš', 'dušš,wc ja vannituba eraldi,saun', nan,\n",
       "       'vann,dušš,pesumasin',\n",
       "       'pesumasin,wc ja vannituba eraldi,dušš,tsentraalne kanalisatsioon',\n",
       "       'dušš,pesumasin', 'pesumasin,vann',\n",
       "       'pesumasin,dušš,tsentraalne kanalisatsioon',\n",
       "       'pesumasin,vann,wc ja vannituba eraldi', 'vann,saun,pesumasin',\n",
       "       'wc ja vannituba eraldi', 'tsentraalne kanalisatsioon,dušš',\n",
       "       'dušš,saun', 'dušš,pesumasin,saun',\n",
       "       'dušš,wc ja vannituba eraldi,vann,pesumasin'], dtype=object)"
      ]
     },
     "execution_count": 10,
     "metadata": {},
     "output_type": "execute_result"
    }
   ],
   "source": [
    "df['Sanitaar'].unique()[0:15]"
   ]
  },
  {
   "cell_type": "code",
   "execution_count": 11,
   "id": "ce0ac55d",
   "metadata": {
    "execution": {
     "iopub.execute_input": "2022-10-26T18:34:28.010063Z",
     "iopub.status.busy": "2022-10-26T18:34:28.009655Z",
     "iopub.status.idle": "2022-10-26T18:34:28.022288Z",
     "shell.execute_reply": "2022-10-26T18:34:28.021165Z"
    },
    "papermill": {
     "duration": 0.026837,
     "end_time": "2022-10-26T18:34:28.024677",
     "exception": false,
     "start_time": "2022-10-26T18:34:27.997840",
     "status": "completed"
    },
    "tags": []
   },
   "outputs": [],
   "source": [
    "# In order to preserve as much data as possible, filling NAs. Useful for feature engineering later.\n",
    "df['Materjal'] = df['Materjal'].fillna('Unknown')\n",
    "df['Küte'] = df['Küte'].fillna('Unknown')\n",
    "df['Seisukord'] = df['Seisukord'].fillna('Unknown')\n",
    "df['Sanitaar'] = df['Sanitaar'].fillna('Unknown')\n",
    "df['Energiamärgis'] = df['Energiamärgis'].fillna('energiamärgis määramata')\n",
    "df = df.replace(\"A,A\",\"A\")"
   ]
  },
  {
   "cell_type": "code",
   "execution_count": 12,
   "id": "dc8e1592",
   "metadata": {
    "execution": {
     "iopub.execute_input": "2022-10-26T18:34:28.047041Z",
     "iopub.status.busy": "2022-10-26T18:34:28.046591Z",
     "iopub.status.idle": "2022-10-26T18:34:28.075194Z",
     "shell.execute_reply": "2022-10-26T18:34:28.074062Z"
    },
    "papermill": {
     "duration": 0.043168,
     "end_time": "2022-10-26T18:34:28.078235",
     "exception": false,
     "start_time": "2022-10-26T18:34:28.035067",
     "status": "completed"
    },
    "tags": []
   },
   "outputs": [],
   "source": [
    "df['flag_shower'] = df['Sanitaar'].apply(lambda x: int('dušš' in x.strip().lower()))\n",
    "df['flag_bath'] = df['Sanitaar'].apply(lambda x: int('vann' in x.strip().lower()))\n",
    "df['flag_sauna'] = df['Sanitaar'].apply(lambda x: int('saun' in x.strip().lower()))\n",
    "df.drop('Sanitaar', axis=1, inplace=True)"
   ]
  },
  {
   "cell_type": "code",
   "execution_count": 13,
   "id": "52641cf9",
   "metadata": {
    "execution": {
     "iopub.execute_input": "2022-10-26T18:34:28.106700Z",
     "iopub.status.busy": "2022-10-26T18:34:28.106076Z",
     "iopub.status.idle": "2022-10-26T18:34:28.116472Z",
     "shell.execute_reply": "2022-10-26T18:34:28.115309Z"
    },
    "papermill": {
     "duration": 0.026933,
     "end_time": "2022-10-26T18:34:28.119460",
     "exception": false,
     "start_time": "2022-10-26T18:34:28.092527",
     "status": "completed"
    },
    "tags": []
   },
   "outputs": [
    {
     "data": {
      "text/plain": [
       "array(['keskküte', 'õhksoojuspump', 'õhk-vesi soojuspump', 'gaasiküte',\n",
       "       'põrandaküte,keskküte,gaasiküte', 'Unknown',\n",
       "       'põrandaküte,keskküte', 'põrandaküte', 'keskküte,põrandaküte',\n",
       "       'õhksoojuspump,elektriküte', 'gaasiküte,kamin',\n",
       "       'elektriküte,kamin', 'põrandaküte,gaasiküte', 'kamin,gaasiküte',\n",
       "       'gaasiküte,põrandaküte'], dtype=object)"
      ]
     },
     "execution_count": 13,
     "metadata": {},
     "output_type": "execute_result"
    }
   ],
   "source": [
    "df['Küte'].unique()[0:15]"
   ]
  },
  {
   "cell_type": "code",
   "execution_count": 14,
   "id": "e87b7dd6",
   "metadata": {
    "execution": {
     "iopub.execute_input": "2022-10-26T18:34:28.144297Z",
     "iopub.status.busy": "2022-10-26T18:34:28.143457Z",
     "iopub.status.idle": "2022-10-26T18:34:28.169605Z",
     "shell.execute_reply": "2022-10-26T18:34:28.168450Z"
    },
    "papermill": {
     "duration": 0.04091,
     "end_time": "2022-10-26T18:34:28.172276",
     "exception": false,
     "start_time": "2022-10-26T18:34:28.131366",
     "status": "completed"
    },
    "tags": []
   },
   "outputs": [],
   "source": [
    "df['flag_generalheat'] = df['Küte'].apply(lambda x: int('keskküte' in x.strip().lower()))\n",
    "df['flag_floorheat'] = df['Küte'].apply(lambda x: int('põrandaküte' in x.strip().lower()))\n",
    "df['flag_gasheat'] = df['Küte'].apply(lambda x: int('gaasiküte' in x.strip().lower()))\n",
    "df['flag_electricalheat'] = df['Küte'].apply(lambda x: int('õhksoojuspump' in x.strip().lower()))\n",
    "df.drop('Küte', axis=1, inplace=True)"
   ]
  },
  {
   "cell_type": "code",
   "execution_count": 15,
   "id": "8aab543b",
   "metadata": {
    "execution": {
     "iopub.execute_input": "2022-10-26T18:34:28.195411Z",
     "iopub.status.busy": "2022-10-26T18:34:28.195014Z",
     "iopub.status.idle": "2022-10-26T18:34:28.214497Z",
     "shell.execute_reply": "2022-10-26T18:34:28.213268Z"
    },
    "papermill": {
     "duration": 0.034806,
     "end_time": "2022-10-26T18:34:28.217783",
     "exception": false,
     "start_time": "2022-10-26T18:34:28.182977",
     "status": "completed"
    },
    "tags": []
   },
   "outputs": [
    {
     "name": "stdout",
     "output_type": "stream",
     "text": [
      "<class 'pandas.core.frame.DataFrame'>\n",
      "Int64Index: 4336 entries, 0 to 4370\n",
      "Data columns (total 19 columns):\n",
      " #   Column               Non-Null Count  Dtype  \n",
      "---  ------               --------------  -----  \n",
      " 0   Seisukord            4336 non-null   object \n",
      " 1   Tube                 4336 non-null   float64\n",
      " 2   Magamistube          3642 non-null   float64\n",
      " 3   Üldpind              4336 non-null   float64\n",
      " 4   Korrus               4164 non-null   float64\n",
      " 5   Korruseid kokku      4273 non-null   float64\n",
      " 6   Hind                 4336 non-null   float64\n",
      " 7   Energiamärgis        4336 non-null   object \n",
      " 8   Materjal             4336 non-null   object \n",
      " 9   Ehitusaasta          3844 non-null   float64\n",
      " 10  flag_balcony         4336 non-null   int64  \n",
      " 11  flag_lift            4336 non-null   int64  \n",
      " 12  flag_shower          4336 non-null   int64  \n",
      " 13  flag_bath            4336 non-null   int64  \n",
      " 14  flag_sauna           4336 non-null   int64  \n",
      " 15  flag_generalheat     4336 non-null   int64  \n",
      " 16  flag_floorheat       4336 non-null   int64  \n",
      " 17  flag_gasheat         4336 non-null   int64  \n",
      " 18  flag_electricalheat  4336 non-null   int64  \n",
      "dtypes: float64(7), int64(9), object(3)\n",
      "memory usage: 677.5+ KB\n"
     ]
    }
   ],
   "source": [
    "df.info()"
   ]
  },
  {
   "cell_type": "code",
   "execution_count": 16,
   "id": "fe3d030f",
   "metadata": {
    "execution": {
     "iopub.execute_input": "2022-10-26T18:34:28.242852Z",
     "iopub.status.busy": "2022-10-26T18:34:28.241797Z",
     "iopub.status.idle": "2022-10-26T18:34:28.268130Z",
     "shell.execute_reply": "2022-10-26T18:34:28.267255Z"
    },
    "papermill": {
     "duration": 0.04046,
     "end_time": "2022-10-26T18:34:28.270238",
     "exception": false,
     "start_time": "2022-10-26T18:34:28.229778",
     "status": "completed"
    },
    "tags": []
   },
   "outputs": [
    {
     "data": {
      "text/html": [
       "<div>\n",
       "<style scoped>\n",
       "    .dataframe tbody tr th:only-of-type {\n",
       "        vertical-align: middle;\n",
       "    }\n",
       "\n",
       "    .dataframe tbody tr th {\n",
       "        vertical-align: top;\n",
       "    }\n",
       "\n",
       "    .dataframe thead th {\n",
       "        text-align: right;\n",
       "    }\n",
       "</style>\n",
       "<table border=\"1\" class=\"dataframe\">\n",
       "  <thead>\n",
       "    <tr style=\"text-align: right;\">\n",
       "      <th></th>\n",
       "      <th>Seisukord</th>\n",
       "      <th>Tube</th>\n",
       "      <th>Magamistube</th>\n",
       "      <th>Üldpind</th>\n",
       "      <th>Korrus</th>\n",
       "      <th>Korruseid kokku</th>\n",
       "      <th>Hind</th>\n",
       "      <th>Energiamärgis</th>\n",
       "      <th>Materjal</th>\n",
       "      <th>Ehitusaasta</th>\n",
       "      <th>flag_balcony</th>\n",
       "      <th>flag_lift</th>\n",
       "      <th>flag_shower</th>\n",
       "      <th>flag_bath</th>\n",
       "      <th>flag_sauna</th>\n",
       "      <th>flag_generalheat</th>\n",
       "      <th>flag_floorheat</th>\n",
       "      <th>flag_gasheat</th>\n",
       "      <th>flag_electricalheat</th>\n",
       "    </tr>\n",
       "  </thead>\n",
       "  <tbody>\n",
       "    <tr>\n",
       "      <th>1</th>\n",
       "      <td>uusehitis</td>\n",
       "      <td>4.0</td>\n",
       "      <td>3.0</td>\n",
       "      <td>101.1</td>\n",
       "      <td>NaN</td>\n",
       "      <td>2.0</td>\n",
       "      <td>315000.0</td>\n",
       "      <td>A</td>\n",
       "      <td>kivimaja</td>\n",
       "      <td>2023.0</td>\n",
       "      <td>1</td>\n",
       "      <td>0</td>\n",
       "      <td>1</td>\n",
       "      <td>1</td>\n",
       "      <td>1</td>\n",
       "      <td>0</td>\n",
       "      <td>0</td>\n",
       "      <td>0</td>\n",
       "      <td>1</td>\n",
       "    </tr>\n",
       "    <tr>\n",
       "      <th>11</th>\n",
       "      <td>vajab renoveerimist</td>\n",
       "      <td>2.0</td>\n",
       "      <td>1.0</td>\n",
       "      <td>95.7</td>\n",
       "      <td>NaN</td>\n",
       "      <td>2.0</td>\n",
       "      <td>275000.0</td>\n",
       "      <td>energiamärgis määramata</td>\n",
       "      <td>Unknown</td>\n",
       "      <td>2008.0</td>\n",
       "      <td>0</td>\n",
       "      <td>0</td>\n",
       "      <td>0</td>\n",
       "      <td>0</td>\n",
       "      <td>0</td>\n",
       "      <td>0</td>\n",
       "      <td>0</td>\n",
       "      <td>0</td>\n",
       "      <td>0</td>\n",
       "    </tr>\n",
       "    <tr>\n",
       "      <th>13</th>\n",
       "      <td>valmis</td>\n",
       "      <td>3.0</td>\n",
       "      <td>3.0</td>\n",
       "      <td>64.8</td>\n",
       "      <td>NaN</td>\n",
       "      <td>9.0</td>\n",
       "      <td>133000.0</td>\n",
       "      <td>E</td>\n",
       "      <td>paneelmaja</td>\n",
       "      <td>1987.0</td>\n",
       "      <td>1</td>\n",
       "      <td>1</td>\n",
       "      <td>0</td>\n",
       "      <td>0</td>\n",
       "      <td>0</td>\n",
       "      <td>0</td>\n",
       "      <td>0</td>\n",
       "      <td>0</td>\n",
       "      <td>0</td>\n",
       "    </tr>\n",
       "    <tr>\n",
       "      <th>26</th>\n",
       "      <td>valmis</td>\n",
       "      <td>3.0</td>\n",
       "      <td>2.0</td>\n",
       "      <td>83.9</td>\n",
       "      <td>NaN</td>\n",
       "      <td>2.0</td>\n",
       "      <td>379650.0</td>\n",
       "      <td>energiamärgis määramata</td>\n",
       "      <td>kivimaja</td>\n",
       "      <td>2021.0</td>\n",
       "      <td>1</td>\n",
       "      <td>0</td>\n",
       "      <td>1</td>\n",
       "      <td>1</td>\n",
       "      <td>0</td>\n",
       "      <td>1</td>\n",
       "      <td>1</td>\n",
       "      <td>0</td>\n",
       "      <td>0</td>\n",
       "    </tr>\n",
       "    <tr>\n",
       "      <th>33</th>\n",
       "      <td>uusehitis</td>\n",
       "      <td>4.0</td>\n",
       "      <td>3.0</td>\n",
       "      <td>127.7</td>\n",
       "      <td>NaN</td>\n",
       "      <td>3.0</td>\n",
       "      <td>315000.0</td>\n",
       "      <td>energiamärgis määramata</td>\n",
       "      <td>kivimaja</td>\n",
       "      <td>2009.0</td>\n",
       "      <td>1</td>\n",
       "      <td>0</td>\n",
       "      <td>1</td>\n",
       "      <td>1</td>\n",
       "      <td>1</td>\n",
       "      <td>0</td>\n",
       "      <td>0</td>\n",
       "      <td>1</td>\n",
       "      <td>0</td>\n",
       "    </tr>\n",
       "  </tbody>\n",
       "</table>\n",
       "</div>"
      ],
      "text/plain": [
       "              Seisukord  Tube  Magamistube  Üldpind  Korrus  Korruseid kokku  \\\n",
       "1             uusehitis   4.0          3.0    101.1     NaN              2.0   \n",
       "11  vajab renoveerimist   2.0          1.0     95.7     NaN              2.0   \n",
       "13               valmis   3.0          3.0     64.8     NaN              9.0   \n",
       "26               valmis   3.0          2.0     83.9     NaN              2.0   \n",
       "33            uusehitis   4.0          3.0    127.7     NaN              3.0   \n",
       "\n",
       "        Hind            Energiamärgis    Materjal  Ehitusaasta  flag_balcony  \\\n",
       "1   315000.0                        A    kivimaja       2023.0             1   \n",
       "11  275000.0  energiamärgis määramata     Unknown       2008.0             0   \n",
       "13  133000.0                        E  paneelmaja       1987.0             1   \n",
       "26  379650.0  energiamärgis määramata    kivimaja       2021.0             1   \n",
       "33  315000.0  energiamärgis määramata    kivimaja       2009.0             1   \n",
       "\n",
       "    flag_lift  flag_shower  flag_bath  flag_sauna  flag_generalheat  \\\n",
       "1           0            1          1           1                 0   \n",
       "11          0            0          0           0                 0   \n",
       "13          1            0          0           0                 0   \n",
       "26          0            1          1           0                 1   \n",
       "33          0            1          1           1                 0   \n",
       "\n",
       "    flag_floorheat  flag_gasheat  flag_electricalheat  \n",
       "1                0             0                    1  \n",
       "11               0             0                    0  \n",
       "13               0             0                    0  \n",
       "26               1             0                    0  \n",
       "33               0             1                    0  "
      ]
     },
     "execution_count": 16,
     "metadata": {},
     "output_type": "execute_result"
    }
   ],
   "source": [
    "df[df.Korrus.isnull()].head()"
   ]
  },
  {
   "cell_type": "code",
   "execution_count": 17,
   "id": "0453754b",
   "metadata": {
    "execution": {
     "iopub.execute_input": "2022-10-26T18:34:28.295134Z",
     "iopub.status.busy": "2022-10-26T18:34:28.294311Z",
     "iopub.status.idle": "2022-10-26T18:34:28.301342Z",
     "shell.execute_reply": "2022-10-26T18:34:28.300419Z"
    },
    "papermill": {
     "duration": 0.022088,
     "end_time": "2022-10-26T18:34:28.303737",
     "exception": false,
     "start_time": "2022-10-26T18:34:28.281649",
     "status": "completed"
    },
    "tags": []
   },
   "outputs": [],
   "source": [
    "df = df[~df['Ehitusaasta'].isnull()]"
   ]
  },
  {
   "cell_type": "code",
   "execution_count": 18,
   "id": "b1c0ecd4",
   "metadata": {
    "execution": {
     "iopub.execute_input": "2022-10-26T18:34:28.327662Z",
     "iopub.status.busy": "2022-10-26T18:34:28.327018Z",
     "iopub.status.idle": "2022-10-26T18:34:28.338405Z",
     "shell.execute_reply": "2022-10-26T18:34:28.337293Z"
    },
    "papermill": {
     "duration": 0.026253,
     "end_time": "2022-10-26T18:34:28.340901",
     "exception": false,
     "start_time": "2022-10-26T18:34:28.314648",
     "status": "completed"
    },
    "tags": []
   },
   "outputs": [],
   "source": [
    "df['Korrus'] = df['Korrus'].fillna(df.groupby('Korruseid kokku')['Korrus'].transform('mean'))"
   ]
  },
  {
   "cell_type": "code",
   "execution_count": 19,
   "id": "de895709",
   "metadata": {
    "execution": {
     "iopub.execute_input": "2022-10-26T18:34:28.365362Z",
     "iopub.status.busy": "2022-10-26T18:34:28.364967Z",
     "iopub.status.idle": "2022-10-26T18:34:28.371643Z",
     "shell.execute_reply": "2022-10-26T18:34:28.370487Z"
    },
    "papermill": {
     "duration": 0.021716,
     "end_time": "2022-10-26T18:34:28.373988",
     "exception": false,
     "start_time": "2022-10-26T18:34:28.352272",
     "status": "completed"
    },
    "tags": []
   },
   "outputs": [],
   "source": [
    "# total floors probably not so important\n",
    "df.drop('Korruseid kokku', axis=1, inplace=True)"
   ]
  },
  {
   "cell_type": "code",
   "execution_count": 20,
   "id": "d9ca08a4",
   "metadata": {
    "execution": {
     "iopub.execute_input": "2022-10-26T18:34:28.397931Z",
     "iopub.status.busy": "2022-10-26T18:34:28.397320Z",
     "iopub.status.idle": "2022-10-26T18:34:29.997396Z",
     "shell.execute_reply": "2022-10-26T18:34:29.995998Z"
    },
    "papermill": {
     "duration": 1.616459,
     "end_time": "2022-10-26T18:34:30.001315",
     "exception": false,
     "start_time": "2022-10-26T18:34:28.384856",
     "status": "completed"
    },
    "tags": []
   },
   "outputs": [
    {
     "data": {
      "image/png": "[encoded data removed]",
      "text/plain": [
       "<Figure size 1152x432 with 2 Axes>"
      ]
     },
     "metadata": {
      "needs_background": "light"
     },
     "output_type": "display_data"
    }
   ],
   "source": [
    "plt.figure(figsize=(16, 6))\n",
    "correlations = sns.heatmap(df.corr(), annot=True)\n",
    "correlations.set_title('Correlations of features', fontdict={'fontsize':12}, pad=12);"
   ]
  },
  {
   "cell_type": "code",
   "execution_count": 21,
   "id": "dc6a3664",
   "metadata": {
    "execution": {
     "iopub.execute_input": "2022-10-26T18:34:30.029848Z",
     "iopub.status.busy": "2022-10-26T18:34:30.029466Z",
     "iopub.status.idle": "2022-10-26T18:34:30.037339Z",
     "shell.execute_reply": "2022-10-26T18:34:30.036501Z"
    },
    "papermill": {
     "duration": 0.024737,
     "end_time": "2022-10-26T18:34:30.039634",
     "exception": false,
     "start_time": "2022-10-26T18:34:30.014897",
     "status": "completed"
    },
    "tags": []
   },
   "outputs": [],
   "source": [
    "#Bedrooms correlated with rooms, so lets calculate medina\n",
    "df['Magamistube'] = df['Magamistube'].fillna(df.groupby('Tube')['Magamistube'].transform('mean'))"
   ]
  },
  {
   "cell_type": "code",
   "execution_count": 22,
   "id": "8f2cf53f",
   "metadata": {
    "execution": {
     "iopub.execute_input": "2022-10-26T18:34:30.074224Z",
     "iopub.status.busy": "2022-10-26T18:34:30.073814Z",
     "iopub.status.idle": "2022-10-26T18:34:30.081247Z",
     "shell.execute_reply": "2022-10-26T18:34:30.080395Z"
    },
    "papermill": {
     "duration": 0.030722,
     "end_time": "2022-10-26T18:34:30.084325",
     "exception": false,
     "start_time": "2022-10-26T18:34:30.053603",
     "status": "completed"
    },
    "tags": []
   },
   "outputs": [
    {
     "data": {
      "text/plain": [
       "array(['kivimaja', 'betoonmaja', 'betoonmaja,kivimaja', 'paneelmaja',\n",
       "       'Unknown', 'puitmaja', 'betoonmaja,kivimaja,plokkmaja',\n",
       "       'plokkmaja,paneelmaja', 'kivimaja,paneelmaja', 'plokkmaja',\n",
       "       'paneelmaja,kivimaja', 'betoonmaja,paneelmaja,kivimaja',\n",
       "       'paneelmaja,kivimaja,plokkmaja', 'palk-kivimaja', 'palkmaja',\n",
       "       'plokkmaja,kivimaja', 'betoonmaja,plokkmaja',\n",
       "       'paneelmaja,kivimaja,betoonmaja', 'kivimaja,plokkmaja',\n",
       "       'betoonmaja,paneelmaja', 'paneelmaja,betoonmaja',\n",
       "       'puitmaja,palk-kivimaja', 'plokkmaja,kivimaja,betoonmaja',\n",
       "       'paneelmaja,plokkmaja,kivimaja', 'kivimaja,betoonmaja,paneelmaja'],\n",
       "      dtype=object)"
      ]
     },
     "execution_count": 22,
     "metadata": {},
     "output_type": "execute_result"
    }
   ],
   "source": [
    "df['Materjal'].unique()[0:25]"
   ]
  },
  {
   "cell_type": "code",
   "execution_count": 23,
   "id": "99804394",
   "metadata": {
    "execution": {
     "iopub.execute_input": "2022-10-26T18:34:30.124967Z",
     "iopub.status.busy": "2022-10-26T18:34:30.123839Z",
     "iopub.status.idle": "2022-10-26T18:34:30.159332Z",
     "shell.execute_reply": "2022-10-26T18:34:30.158014Z"
    },
    "papermill": {
     "duration": 0.063758,
     "end_time": "2022-10-26T18:34:30.163715",
     "exception": false,
     "start_time": "2022-10-26T18:34:30.099957",
     "status": "completed"
    },
    "tags": []
   },
   "outputs": [],
   "source": [
    "df['flag_brick'] = df['Materjal'].apply(lambda x: int('plokkmaja' in x.strip().lower()))\n",
    "df['flag_panel'] = df['Materjal'].apply(lambda x: int('paneelmaja' in x.strip().lower()))\n",
    "df['flag_beton'] = df['Materjal'].apply(lambda x: int('betoonmaja' in x.strip().lower()))\n",
    "df['flag_stone'] = df['Materjal'].apply(lambda x: int('kivimaja' in x.strip().lower()))\n",
    "df['flag_wood'] = df['Materjal'].apply(lambda x: int('puitmaja' in x.strip().lower()))\n",
    "df.drop('Materjal', axis=1, inplace=True)"
   ]
  },
  {
   "cell_type": "code",
   "execution_count": 24,
   "id": "dc51cdb3",
   "metadata": {
    "execution": {
     "iopub.execute_input": "2022-10-26T18:34:30.194894Z",
     "iopub.status.busy": "2022-10-26T18:34:30.194468Z",
     "iopub.status.idle": "2022-10-26T18:34:30.203358Z",
     "shell.execute_reply": "2022-10-26T18:34:30.202248Z"
    },
    "papermill": {
     "duration": 0.026363,
     "end_time": "2022-10-26T18:34:30.205515",
     "exception": false,
     "start_time": "2022-10-26T18:34:30.179152",
     "status": "completed"
    },
    "tags": []
   },
   "outputs": [
    {
     "data": {
      "text/plain": [
       "array(['vajab renoveerimist', 'uusehitis', 'valmis',\n",
       "       'valmis,renoveeritud', 'renoveeritud', 'Unknown',\n",
       "       'vajab kapitaalremonti', 'uusehitis,uus viimistlus',\n",
       "       'valmimisjärgus', 'renoveeritud,valmis',\n",
       "       'uus viimistlus,uusehitis,valmis',\n",
       "       'vajab kapitaalremonti,vajab renoveerimist,valmis',\n",
       "       'uus viimistlus,renoveeritud,valmis', 'uusehitis,valmis',\n",
       "       'valmis,renoveeritud,uus viimistlus', 'uus viimistlus,valmis',\n",
       "       'san remont tehtud', 'valmis,uusehitis', 'uus viimistlus',\n",
       "       'uus viimistlus,valmis,renoveeritud',\n",
       "       'uus viimistlus,renoveeritud,uusehitis,valmis',\n",
       "       'uusehitis,valmis,renoveeritud,uus viimistlus',\n",
       "       'san remont tehtud,renoveeritud,uus viimistlus,valmis',\n",
       "       'valmis,vajab renoveerimist', 'uus viimistlus,renoveeritud'],\n",
       "      dtype=object)"
      ]
     },
     "execution_count": 24,
     "metadata": {},
     "output_type": "execute_result"
    }
   ],
   "source": [
    "df['Seisukord'].unique()[0:25]"
   ]
  },
  {
   "cell_type": "code",
   "execution_count": 25,
   "id": "6e520377",
   "metadata": {
    "execution": {
     "iopub.execute_input": "2022-10-26T18:34:30.235333Z",
     "iopub.status.busy": "2022-10-26T18:34:30.234492Z",
     "iopub.status.idle": "2022-10-26T18:34:30.258370Z",
     "shell.execute_reply": "2022-10-26T18:34:30.257230Z"
    },
    "papermill": {
     "duration": 0.041794,
     "end_time": "2022-10-26T18:34:30.261246",
     "exception": false,
     "start_time": "2022-10-26T18:34:30.219452",
     "status": "completed"
    },
    "tags": []
   },
   "outputs": [],
   "source": [
    "df['flag_newbuilding'] = df['Seisukord'].apply(lambda x: int('uusehitis' in x.strip().lower()))\n",
    "df['flag_indevelopment'] = df['Seisukord'].apply(lambda x: int('valmimisjärgus' in x.strip().lower()))\n",
    "df['flag_renovated'] = df['Seisukord'].apply(lambda x: int('renoveeritud' in x.strip().lower()))\n",
    "df['flag_needsrenovation'] = df['Seisukord'].apply(lambda x: int('vajab renoveerimist' in x.strip().lower()))\n",
    "df.drop('Seisukord', axis=1, inplace=True)"
   ]
  },
  {
   "cell_type": "code",
   "execution_count": 26,
   "id": "2312b39e",
   "metadata": {
    "execution": {
     "iopub.execute_input": "2022-10-26T18:34:30.291393Z",
     "iopub.status.busy": "2022-10-26T18:34:30.290993Z",
     "iopub.status.idle": "2022-10-26T18:34:30.299343Z",
     "shell.execute_reply": "2022-10-26T18:34:30.298158Z"
    },
    "papermill": {
     "duration": 0.026253,
     "end_time": "2022-10-26T18:34:30.301817",
     "exception": false,
     "start_time": "2022-10-26T18:34:30.275564",
     "status": "completed"
    },
    "tags": []
   },
   "outputs": [],
   "source": [
    "df = df[~df['Korrus'].isnull()]\n",
    "df = df[~df['Magamistube'].isnull()]"
   ]
  },
  {
   "cell_type": "code",
   "execution_count": 27,
   "id": "b9f9e79d",
   "metadata": {
    "execution": {
     "iopub.execute_input": "2022-10-26T18:34:30.331273Z",
     "iopub.status.busy": "2022-10-26T18:34:30.330836Z",
     "iopub.status.idle": "2022-10-26T18:34:30.347171Z",
     "shell.execute_reply": "2022-10-26T18:34:30.345193Z"
    },
    "papermill": {
     "duration": 0.035224,
     "end_time": "2022-10-26T18:34:30.350835",
     "exception": false,
     "start_time": "2022-10-26T18:34:30.315611",
     "status": "completed"
    },
    "tags": []
   },
   "outputs": [
    {
     "name": "stdout",
     "output_type": "stream",
     "text": [
      "<class 'pandas.core.frame.DataFrame'>\n",
      "Int64Index: 3830 entries, 0 to 4370\n",
      "Data columns (total 25 columns):\n",
      " #   Column                Non-Null Count  Dtype  \n",
      "---  ------                --------------  -----  \n",
      " 0   Tube                  3830 non-null   float64\n",
      " 1   Magamistube           3830 non-null   float64\n",
      " 2   Üldpind               3830 non-null   float64\n",
      " 3   Korrus                3830 non-null   float64\n",
      " 4   Hind                  3830 non-null   float64\n",
      " 5   Energiamärgis         3830 non-null   object \n",
      " 6   Ehitusaasta           3830 non-null   float64\n",
      " 7   flag_balcony          3830 non-null   int64  \n",
      " 8   flag_lift             3830 non-null   int64  \n",
      " 9   flag_shower           3830 non-null   int64  \n",
      " 10  flag_bath             3830 non-null   int64  \n",
      " 11  flag_sauna            3830 non-null   int64  \n",
      " 12  flag_generalheat      3830 non-null   int64  \n",
      " 13  flag_floorheat        3830 non-null   int64  \n",
      " 14  flag_gasheat          3830 non-null   int64  \n",
      " 15  flag_electricalheat   3830 non-null   int64  \n",
      " 16  flag_brick            3830 non-null   int64  \n",
      " 17  flag_panel            3830 non-null   int64  \n",
      " 18  flag_beton            3830 non-null   int64  \n",
      " 19  flag_stone            3830 non-null   int64  \n",
      " 20  flag_wood             3830 non-null   int64  \n",
      " 21  flag_newbuilding      3830 non-null   int64  \n",
      " 22  flag_indevelopment    3830 non-null   int64  \n",
      " 23  flag_renovated        3830 non-null   int64  \n",
      " 24  flag_needsrenovation  3830 non-null   int64  \n",
      "dtypes: float64(6), int64(18), object(1)\n",
      "memory usage: 778.0+ KB\n"
     ]
    }
   ],
   "source": [
    "df.info()"
   ]
  },
  {
   "cell_type": "markdown",
   "id": "efd05128",
   "metadata": {
    "papermill": {
     "duration": 0.01331,
     "end_time": "2022-10-26T18:34:30.378279",
     "exception": false,
     "start_time": "2022-10-26T18:34:30.364969",
     "status": "completed"
    },
    "tags": []
   },
   "source": [
    "# Model"
   ]
  },
  {
   "cell_type": "code",
   "execution_count": 28,
   "id": "c2da3899",
   "metadata": {
    "execution": {
     "iopub.execute_input": "2022-10-26T18:34:30.406971Z",
     "iopub.status.busy": "2022-10-26T18:34:30.406550Z",
     "iopub.status.idle": "2022-10-26T18:34:31.768381Z",
     "shell.execute_reply": "2022-10-26T18:34:31.767237Z"
    },
    "papermill": {
     "duration": 1.379738,
     "end_time": "2022-10-26T18:34:31.771602",
     "exception": false,
     "start_time": "2022-10-26T18:34:30.391864",
     "status": "completed"
    },
    "tags": []
   },
   "outputs": [
    {
     "data": {
      "text/html": [
       "<style type='text/css'>\n",
       ".datatable table.frame { margin-bottom: 0; }\n",
       ".datatable table.frame thead { border-bottom: none; }\n",
       ".datatable table.frame tr.coltypes td {  color: #FFFFFF;  line-height: 6px;  padding: 0 0.5em;}\n",
       ".datatable .bool    { background: #DDDD99; }\n",
       ".datatable .object  { background: #565656; }\n",
       ".datatable .int     { background: #5D9E5D; }\n",
       ".datatable .float   { background: #4040CC; }\n",
       ".datatable .str     { background: #CC4040; }\n",
       ".datatable .time    { background: #40CC40; }\n",
       ".datatable .row_index {  background: var(--jp-border-color3);  border-right: 1px solid var(--jp-border-color0);  color: var(--jp-ui-font-color3);  font-size: 9px;}\n",
       ".datatable .frame tbody td { text-align: left; }\n",
       ".datatable .frame tr.coltypes .row_index {  background: var(--jp-border-color0);}\n",
       ".datatable th:nth-child(2) { padding-left: 12px; }\n",
       ".datatable .hellipsis {  color: var(--jp-cell-editor-border-color);}\n",
       ".datatable .vellipsis {  background: var(--jp-layout-color0);  color: var(--jp-cell-editor-border-color);}\n",
       ".datatable .na {  color: var(--jp-cell-editor-border-color);  font-size: 80%;}\n",
       ".datatable .sp {  opacity: 0.25;}\n",
       ".datatable .footer { font-size: 9px; }\n",
       ".datatable .frame_dimensions {  background: var(--jp-border-color3);  border-top: 1px solid var(--jp-border-color0);  color: var(--jp-ui-font-color3);  display: inline-block;  opacity: 0.6;  padding: 1px 10px 1px 5px;}\n",
       "</style>\n"
      ],
      "text/plain": [
       "<IPython.core.display.HTML object>"
      ]
     },
     "metadata": {},
     "output_type": "display_data"
    }
   ],
   "source": [
    "from sklearn.ensemble import RandomForestRegressor\n",
    "from lightgbm import LGBMRegressor\n",
    "from sklearn.linear_model import LinearRegression\n",
    "from sklearn.metrics import mean_absolute_percentage_error, r2_score, mean_squared_error\n",
    "from sklearn.preprocessing import StandardScaler, OrdinalEncoder,OneHotEncoder\n",
    "from sklearn.compose import ColumnTransformer\n",
    "from sklearn.model_selection import GridSearchCV, train_test_split, cross_val_predict\n",
    "from sklearn.pipeline import make_pipeline\n",
    "import numpy as np\n"
   ]
  },
  {
   "cell_type": "code",
   "execution_count": 29,
   "id": "e55c566a",
   "metadata": {
    "execution": {
     "iopub.execute_input": "2022-10-26T18:34:31.802200Z",
     "iopub.status.busy": "2022-10-26T18:34:31.801379Z",
     "iopub.status.idle": "2022-10-26T18:34:31.807100Z",
     "shell.execute_reply": "2022-10-26T18:34:31.805859Z"
    },
    "papermill": {
     "duration": 0.024298,
     "end_time": "2022-10-26T18:34:31.809791",
     "exception": false,
     "start_time": "2022-10-26T18:34:31.785493",
     "status": "completed"
    },
    "tags": []
   },
   "outputs": [],
   "source": [
    "target_column = 'Hind'\n"
   ]
  },
  {
   "cell_type": "code",
   "execution_count": 30,
   "id": "3a76f634",
   "metadata": {
    "execution": {
     "iopub.execute_input": "2022-10-26T18:34:31.838663Z",
     "iopub.status.busy": "2022-10-26T18:34:31.838258Z",
     "iopub.status.idle": "2022-10-26T18:34:31.844688Z",
     "shell.execute_reply": "2022-10-26T18:34:31.843468Z"
    },
    "papermill": {
     "duration": 0.023948,
     "end_time": "2022-10-26T18:34:31.847142",
     "exception": false,
     "start_time": "2022-10-26T18:34:31.823194",
     "status": "completed"
    },
    "tags": []
   },
   "outputs": [],
   "source": [
    "categorical_cols = [c for c in df.columns if df[c].dtype in [object]]\n",
    "numerical_cols = [c for c in df.columns if df[c].dtype in [float, int] and c not in [target_column]]"
   ]
  },
  {
   "cell_type": "code",
   "execution_count": 31,
   "id": "899486db",
   "metadata": {
    "execution": {
     "iopub.execute_input": "2022-10-26T18:34:31.876099Z",
     "iopub.status.busy": "2022-10-26T18:34:31.875637Z",
     "iopub.status.idle": "2022-10-26T18:34:31.883135Z",
     "shell.execute_reply": "2022-10-26T18:34:31.881886Z"
    },
    "papermill": {
     "duration": 0.025105,
     "end_time": "2022-10-26T18:34:31.885675",
     "exception": false,
     "start_time": "2022-10-26T18:34:31.860570",
     "status": "completed"
    },
    "tags": []
   },
   "outputs": [
    {
     "name": "stdout",
     "output_type": "stream",
     "text": [
      "['Energiamärgis']\n"
     ]
    }
   ],
   "source": [
    "print(categorical_cols)\n",
    "X = df[numerical_cols+categorical_cols]\n",
    "y = df[target_column]"
   ]
  },
  {
   "cell_type": "code",
   "execution_count": 32,
   "id": "d095cba4",
   "metadata": {
    "execution": {
     "iopub.execute_input": "2022-10-26T18:34:31.914848Z",
     "iopub.status.busy": "2022-10-26T18:34:31.914451Z",
     "iopub.status.idle": "2022-10-26T18:34:31.922652Z",
     "shell.execute_reply": "2022-10-26T18:34:31.921416Z"
    },
    "papermill": {
     "duration": 0.02585,
     "end_time": "2022-10-26T18:34:31.924969",
     "exception": false,
     "start_time": "2022-10-26T18:34:31.899119",
     "status": "completed"
    },
    "tags": []
   },
   "outputs": [],
   "source": [
    "from sklearn.model_selection import train_test_split\n",
    "X_train, X_test, y_train, y_test = train_test_split(X, y, test_size=0.33, random_state=42)"
   ]
  },
  {
   "cell_type": "code",
   "execution_count": 33,
   "id": "de7c0d49",
   "metadata": {
    "execution": {
     "iopub.execute_input": "2022-10-26T18:34:31.954206Z",
     "iopub.status.busy": "2022-10-26T18:34:31.953405Z",
     "iopub.status.idle": "2022-10-26T18:34:31.959103Z",
     "shell.execute_reply": "2022-10-26T18:34:31.958134Z"
    },
    "papermill": {
     "duration": 0.022915,
     "end_time": "2022-10-26T18:34:31.961360",
     "exception": false,
     "start_time": "2022-10-26T18:34:31.938445",
     "status": "completed"
    },
    "tags": []
   },
   "outputs": [],
   "source": [
    "def cv(model, params):\n",
    "    grid = GridSearchCV(model, params, scoring='neg_root_mean_squared_error', cv=5)\n",
    "    grid.fit(X_train, y_train)\n",
    "    print(grid.best_params_)\n",
    "    return(grid.best_estimator_)"
   ]
  },
  {
   "cell_type": "code",
   "execution_count": 34,
   "id": "30d7fc8a",
   "metadata": {
    "execution": {
     "iopub.execute_input": "2022-10-26T18:34:31.990589Z",
     "iopub.status.busy": "2022-10-26T18:34:31.989884Z",
     "iopub.status.idle": "2022-10-26T18:34:31.997423Z",
     "shell.execute_reply": "2022-10-26T18:34:31.996165Z"
    },
    "papermill": {
     "duration": 0.025233,
     "end_time": "2022-10-26T18:34:32.000102",
     "exception": false,
     "start_time": "2022-10-26T18:34:31.974869",
     "status": "completed"
    },
    "tags": []
   },
   "outputs": [],
   "source": [
    "lgbm = LGBMRegressor()\n",
    "params = {}\n",
    "params['lgbmregressor__num_leaves'] = [7, 14, 21, 28, 31, 50]\n",
    "params['lgbmregressor__max_depth'] = [-1, 3, 5, 8]\n",
    "params['lgbmregressor__learning_rate'] = [0.15,0.1, 0.01, 0.001]\n",
    "params['lgbmregressor__boosting_type'] = ['gbdt','dart','goss']\n",
    "\n",
    "\n",
    "model = make_pipeline(ColumnTransformer([\n",
    "        ('num', StandardScaler(), numerical_cols),\n",
    "        ('cat', OneHotEncoder(handle_unknown='ignore'), categorical_cols),    \n",
    "    ]),\n",
    "    lgbm)"
   ]
  },
  {
   "cell_type": "code",
   "execution_count": 35,
   "id": "f499c697",
   "metadata": {
    "execution": {
     "iopub.execute_input": "2022-10-26T18:34:32.031355Z",
     "iopub.status.busy": "2022-10-26T18:34:32.030956Z",
     "iopub.status.idle": "2022-10-26T18:37:05.238748Z",
     "shell.execute_reply": "2022-10-26T18:37:05.237860Z"
    },
    "papermill": {
     "duration": 153.243168,
     "end_time": "2022-10-26T18:37:05.256810",
     "exception": false,
     "start_time": "2022-10-26T18:34:32.013642",
     "status": "completed"
    },
    "tags": []
   },
   "outputs": [
    {
     "name": "stdout",
     "output_type": "stream",
     "text": [
      "{'lgbmregressor__boosting_type': 'goss', 'lgbmregressor__learning_rate': 0.1, 'lgbmregressor__max_depth': 8, 'lgbmregressor__num_leaves': 21}\n",
      "The RMSFE error is: 54609.15\n",
      "The R2 is: 0.79\n"
     ]
    }
   ],
   "source": [
    "best_model = cv(model,params)\n",
    "best_model.fit(X_train, y_train)\n",
    "preds = best_model.predict(X_test)\n",
    "print(\"The RMSFE error is:\", round(mean_squared_error(y_test,preds)**(1/2),2))\n",
    "print(\"The R2 is:\", round(r2_score(y_test, preds),2))"
   ]
  },
  {
   "cell_type": "code",
   "execution_count": 36,
   "id": "bd12e88c",
   "metadata": {
    "execution": {
     "iopub.execute_input": "2022-10-26T18:37:05.289960Z",
     "iopub.status.busy": "2022-10-26T18:37:05.289546Z",
     "iopub.status.idle": "2022-10-26T18:37:05.297348Z",
     "shell.execute_reply": "2022-10-26T18:37:05.295951Z"
    },
    "papermill": {
     "duration": 0.025666,
     "end_time": "2022-10-26T18:37:05.299689",
     "exception": false,
     "start_time": "2022-10-26T18:37:05.274023",
     "status": "completed"
    },
    "tags": []
   },
   "outputs": [],
   "source": [
    "rf = RandomForestRegressor()\n",
    "params = {}\n",
    "params['randomforestregressor__max_depth'] = [1,5,15,30]\n",
    "params['randomforestregressor__n_estimators'] = [10,50,100,150]\n",
    "params['randomforestregressor__min_samples_split'] = [2,4,8]\n",
    "params['randomforestregressor__max_features'] = [\"auto\", \"sqrt\", \"log2\"]\n",
    "params['randomforestregressor__bootstrap'] = [True, False]\n",
    "\n",
    "model = make_pipeline(ColumnTransformer([\n",
    "        ('num', StandardScaler(), numerical_cols),\n",
    "        ('cat', OneHotEncoder(handle_unknown='ignore'), categorical_cols),    \n",
    "    ]),rf\n",
    "    )"
   ]
  },
  {
   "cell_type": "code",
   "execution_count": 37,
   "id": "cba7abae",
   "metadata": {
    "execution": {
     "iopub.execute_input": "2022-10-26T18:37:05.330897Z",
     "iopub.status.busy": "2022-10-26T18:37:05.330048Z",
     "iopub.status.idle": "2022-10-26T18:44:16.792846Z",
     "shell.execute_reply": "2022-10-26T18:44:16.791680Z"
    },
    "papermill": {
     "duration": 431.481213,
     "end_time": "2022-10-26T18:44:16.795295",
     "exception": false,
     "start_time": "2022-10-26T18:37:05.314082",
     "status": "completed"
    },
    "tags": []
   },
   "outputs": [
    {
     "name": "stdout",
     "output_type": "stream",
     "text": [
      "{'randomforestregressor__bootstrap': False, 'randomforestregressor__max_depth': 30, 'randomforestregressor__max_features': 'log2', 'randomforestregressor__min_samples_split': 2, 'randomforestregressor__n_estimators': 50}\n",
      "The RMSFE error is: 50327.49\n",
      "The R2 is: 0.82\n"
     ]
    }
   ],
   "source": [
    "best_model = cv(model,params)\n",
    "best_model.fit(X_train, y_train)\n",
    "preds = best_model.predict(X_test)\n",
    "print(\"The RMSFE error is:\", round(mean_squared_error(y_test,preds)**(1/2),2))\n",
    "print(\"The R2 is:\", round(r2_score(y_test, preds),2))"
   ]
  },
  {
   "cell_type": "code",
   "execution_count": 38,
   "id": "799dd182",
   "metadata": {
    "execution": {
     "iopub.execute_input": "2022-10-26T18:44:16.824348Z",
     "iopub.status.busy": "2022-10-26T18:44:16.823977Z",
     "iopub.status.idle": "2022-10-26T18:44:16.885289Z",
     "shell.execute_reply": "2022-10-26T18:44:16.883595Z"
    },
    "papermill": {
     "duration": 0.080388,
     "end_time": "2022-10-26T18:44:16.889438",
     "exception": false,
     "start_time": "2022-10-26T18:44:16.809050",
     "status": "completed"
    },
    "tags": []
   },
   "outputs": [
    {
     "name": "stdout",
     "output_type": "stream",
     "text": [
      "The RMSFE error is: 68991.71\n",
      "The R2 is: 0.67\n"
     ]
    }
   ],
   "source": [
    "lm = LinearRegression()\n",
    "model = make_pipeline(ColumnTransformer([\n",
    "        ('num', StandardScaler(), numerical_cols),\n",
    "        ('cat', OneHotEncoder(handle_unknown='ignore'), categorical_cols),    \n",
    "    ]),lm\n",
    "    )\n",
    "model.fit(X_train,y_train)\n",
    "preds = model.predict(X_test)\n",
    "print(\"The RMSFE error is:\", round(mean_squared_error(y_test,preds)**(1/2),2))\n",
    "print(\"The R2 is:\", round(r2_score(y_test, preds),2))"
   ]
  }
 ],
 "metadata": {
  "kernelspec": {
   "display_name": "Python 3",
   "language": "python",
   "name": "python3"
  },
  "language_info": {
   "codemirror_mode": {
    "name": "ipython",
    "version": 3
   },
   "file_extension": ".py",
   "mimetype": "text/x-python",
   "name": "python",
   "nbconvert_exporter": "python",
   "pygments_lexer": "ipython3",
   "version": "3.7.12"
  },
  "papermill": {
   "default_parameters": {},
   "duration": 600.018884,
   "end_time": "2022-10-26T18:44:17.808630",
   "environment_variables": {},
   "exception": null,
   "input_path": "__notebook__.ipynb",
   "output_path": "__notebook__.ipynb",
   "parameters": {},
   "start_time": "2022-10-26T18:34:17.789746",
   "version": "2.3.4"
  }
 },
 "nbformat": 4,
 "nbformat_minor": 5
}
