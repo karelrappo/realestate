{
 "cells": [
  {
   "cell_type": "code",
   "execution_count": 1,
   "id": "b23e4e9e",
   "metadata": {},
   "outputs": [],
   "source": [
    "import warnings\n",
    "warnings.filterwarnings(\"ignore\", category=DeprecationWarning)\n",
    "\n",
    "## added selenium code\n",
    "from selenium import webdriver\n",
    "import time\n",
    "from bs4 import BeautifulSoup\n",
    "## For parallel execution\n",
    "from multiprocessing import Pool\n",
    "from tqdm.auto import tqdm\n",
    "from datetime import date\n",
    "\n",
    "today = date.today().strftime('%Y-%m-%d')"
   ]
  },
  {
   "cell_type": "code",
   "execution_count": 2,
   "id": "0f981e98",
   "metadata": {},
   "outputs": [],
   "source": [
    "#Scrape data from all pages\n",
    "# Enable javascript and disable automation flag\n",
    "options = webdriver.ChromeOptions()\n",
    "options.add_argument(\"--enable-javascript\")\n",
    "options.add_argument(\"--dns-prefetch-disable\");\n",
    "options.add_argument(\"--disable-gpu\");\n",
    "options.add_argument(\"--disable-blink-features=AutomationControlled\")\n",
    "# start the instance\n",
    "driver = webdriver.Chrome(options=options)"
   ]
  },
  {
   "cell_type": "code",
   "execution_count": 3,
   "id": "695ab4e3",
   "metadata": {},
   "outputs": [],
   "source": [
    "def Parser(url):\n",
    "    \"\"\" Opens the URL passed to the function\"\"\"\n",
    "    driver.get(url)\n",
    "    return(driver)\n",
    "    \n",
    "def Get_Properties(pages):\n",
    "    \"\"\"Loops through all pages of listing, and saves their info into list.\"\"\"\n",
    "    all_links=[]\n",
    "    for i in tqdm(range(1,pages)):\n",
    "        Parser(f\"https://www.kv.ee/?act=search.simple&page_size=100&deal_type=1&county=1&search_type=new&parish=1061&page=[{i}]\")\n",
    "        try:\n",
    "            #accepts the cookies\n",
    "            driver.find_element_by_id(\"onetrust-accept-btn-handler\").click()\n",
    "        except:\n",
    "            pass\n",
    "        finally:\n",
    "            soup = BeautifulSoup(driver.page_source, 'html.parser')\n",
    "            properties = soup.find_all(\"tr\", class_=\"object-type-apartment object-item\")\n",
    "            for property in properties:\n",
    "                links = property.find_all(\"a\",{\"class\":\"object-title-a text-truncate\"})\n",
    "                for link in links:\n",
    "                    all_links.append(link['href'])\n",
    "    return(all_links)"
   ]
  },
  {
   "cell_type": "code",
   "execution_count": 4,
   "id": "82874afa",
   "metadata": {
    "scrolled": true
   },
   "outputs": [
    {
     "data": {
      "application/vnd.jupyter.widget-view+json": {
       "model_id": "ec19d574e4be42fd9649208502a6001e",
       "version_major": 2,
       "version_minor": 0
      },
      "text/plain": [
       "  0%|          | 0/34 [00:00<?, ?it/s]"
      ]
     },
     "metadata": {},
     "output_type": "display_data"
    }
   ],
   "source": [
    "##Generate the property list\n",
    "links = Get_Properties(35)"
   ]
  },
  {
   "cell_type": "code",
   "execution_count": 5,
   "id": "36c1a692",
   "metadata": {},
   "outputs": [],
   "source": [
    "\n",
    "all_info=[]\n",
    "def Properties_info(i):\n",
    "            d = {}\n",
    "            Parser(links[i])\n",
    "            try:\n",
    "                driver.find_element_by_id(\"onetrust-accept-btn-handler\").click()\n",
    "            except:\n",
    "                pass\n",
    "            finally:\n",
    "                soup = BeautifulSoup(driver.page_source, 'html.parser')\n",
    "                page_content = soup.find(\"div\", {\"class\":\"object-article-details\"})\n",
    "                price = page_content.find(\"div\",{\"class\":\"object-price\"}).findChildren()[0]\n",
    "                descr = soup.find(\"div\",{\"class\":\"object-article-body\"}).find(\"p\")\n",
    "                aadress= soup.find('h1',{'class':'title'}).get_text(strip=True)\n",
    "                #loop through rows in info table\n",
    "                for items in page_content.find('table',{\"class\":\"table-lined object-data-meta\"}).find_all('tr'):\n",
    "                    data = [item.get_text(strip=True) for item in items.find_all(['th','td'])]\n",
    "                    d[data[0]]=data[-1]\n",
    "                    d['url']=links[i]\n",
    "                    d['hind']=price.get_text(strip=True)\n",
    "                    d['aadress']=aadress\n",
    "                    d['description'] = descr\n",
    "                    d['date'] = today\n",
    "            all_info.append(d)"
   ]
  },
  {
   "cell_type": "code",
   "execution_count": 6,
   "id": "7491bae4",
   "metadata": {
    "scrolled": true
   },
   "outputs": [
    {
     "data": {
      "application/vnd.jupyter.widget-view+json": {
       "model_id": "cf596b64b47348e4b60a0748442559c0",
       "version_major": 2,
       "version_minor": 0
      },
      "text/plain": [
       "  0%|          | 0/3400 [00:00<?, ?it/s]"
      ]
     },
     "metadata": {},
     "output_type": "display_data"
    },
    {
     "ename": "WebDriverException",
     "evalue": "Message: disconnected: Unable to receive message from renderer\n  (Session info: chrome=106.0.5249.91)\nStacktrace:\n0   chromedriver                        0x000000010bc3f788 chromedriver + 4515720\n1   chromedriver                        0x000000010bbc39d3 chromedriver + 4008403\n2   chromedriver                        0x000000010b85612a chromedriver + 413994\n3   chromedriver                        0x000000010b842b7f chromedriver + 334719\n4   chromedriver                        0x000000010b842301 chromedriver + 332545\n5   chromedriver                        0x000000010b85d6a3 chromedriver + 444067\n6   chromedriver                        0x000000010b8be028 chromedriver + 839720\n7   chromedriver                        0x000000010b8aa603 chromedriver + 759299\n8   chromedriver                        0x000000010b880990 chromedriver + 588176\n9   chromedriver                        0x000000010b881a75 chromedriver + 592501\n10  chromedriver                        0x000000010bc0f6cd chromedriver + 4318925\n11  chromedriver                        0x000000010bc13f35 chromedriver + 4337461\n12  chromedriver                        0x000000010bc1b1ff chromedriver + 4366847\n13  chromedriver                        0x000000010bc14c5a chromedriver + 4340826\n14  chromedriver                        0x000000010bbeac2c chromedriver + 4168748\n15  chromedriver                        0x000000010bc314f8 chromedriver + 4457720\n16  chromedriver                        0x000000010bc31693 chromedriver + 4458131\n17  chromedriver                        0x000000010bc46a3e chromedriver + 4545086\n18  libsystem_pthread.dylib             0x00007ff80232c4e1 _pthread_start + 125\n19  libsystem_pthread.dylib             0x00007ff802327f6b thread_start + 15\n",
     "output_type": "error",
     "traceback": [
      "\u001b[0;31m---------------------------------------------------------------------------\u001b[0m",
      "\u001b[0;31mWebDriverException\u001b[0m                        Traceback (most recent call last)",
      "Input \u001b[0;32mIn [6]\u001b[0m, in \u001b[0;36m<cell line: 1>\u001b[0;34m()\u001b[0m\n\u001b[1;32m      1\u001b[0m \u001b[38;5;28;01mfor\u001b[39;00m i \u001b[38;5;129;01min\u001b[39;00m tqdm(\u001b[38;5;28mrange\u001b[39m(\u001b[38;5;241m0\u001b[39m,\u001b[38;5;28mlen\u001b[39m(links))):\n\u001b[0;32m----> 2\u001b[0m     \u001b[43mProperties_info\u001b[49m\u001b[43m(\u001b[49m\u001b[43mi\u001b[49m\u001b[43m)\u001b[49m\n",
      "Input \u001b[0;32mIn [5]\u001b[0m, in \u001b[0;36mProperties_info\u001b[0;34m(i)\u001b[0m\n\u001b[1;32m      2\u001b[0m \u001b[38;5;28;01mdef\u001b[39;00m \u001b[38;5;21mProperties_info\u001b[39m(i):\n\u001b[1;32m      3\u001b[0m             d \u001b[38;5;241m=\u001b[39m {}\n\u001b[0;32m----> 4\u001b[0m             \u001b[43mParser\u001b[49m\u001b[43m(\u001b[49m\u001b[43mlinks\u001b[49m\u001b[43m[\u001b[49m\u001b[43mi\u001b[49m\u001b[43m]\u001b[49m\u001b[43m)\u001b[49m\n\u001b[1;32m      5\u001b[0m             \u001b[38;5;28;01mtry\u001b[39;00m:\n\u001b[1;32m      6\u001b[0m                 driver\u001b[38;5;241m.\u001b[39mfind_element_by_id(\u001b[38;5;124m\"\u001b[39m\u001b[38;5;124monetrust-accept-btn-handler\u001b[39m\u001b[38;5;124m\"\u001b[39m)\u001b[38;5;241m.\u001b[39mclick()\n",
      "Input \u001b[0;32mIn [3]\u001b[0m, in \u001b[0;36mParser\u001b[0;34m(url)\u001b[0m\n\u001b[1;32m      1\u001b[0m \u001b[38;5;28;01mdef\u001b[39;00m \u001b[38;5;21mParser\u001b[39m(url):\n\u001b[1;32m      2\u001b[0m     \u001b[38;5;124;03m\"\"\" Opens the URL passed to the function\"\"\"\u001b[39;00m\n\u001b[0;32m----> 3\u001b[0m     \u001b[43mdriver\u001b[49m\u001b[38;5;241;43m.\u001b[39;49m\u001b[43mget\u001b[49m\u001b[43m(\u001b[49m\u001b[43murl\u001b[49m\u001b[43m)\u001b[49m\n\u001b[1;32m      4\u001b[0m     \u001b[38;5;28;01mreturn\u001b[39;00m(driver)\n",
      "File \u001b[0;32m~/opt/anaconda3/lib/python3.9/site-packages/selenium/webdriver/remote/webdriver.py:441\u001b[0m, in \u001b[0;36mWebDriver.get\u001b[0;34m(self, url)\u001b[0m\n\u001b[1;32m    437\u001b[0m \u001b[38;5;28;01mdef\u001b[39;00m \u001b[38;5;21mget\u001b[39m(\u001b[38;5;28mself\u001b[39m, url: \u001b[38;5;28mstr\u001b[39m) \u001b[38;5;241m-\u001b[39m\u001b[38;5;241m>\u001b[39m \u001b[38;5;28;01mNone\u001b[39;00m:\n\u001b[1;32m    438\u001b[0m     \u001b[38;5;124;03m\"\"\"\u001b[39;00m\n\u001b[1;32m    439\u001b[0m \u001b[38;5;124;03m    Loads a web page in the current browser session.\u001b[39;00m\n\u001b[1;32m    440\u001b[0m \u001b[38;5;124;03m    \"\"\"\u001b[39;00m\n\u001b[0;32m--> 441\u001b[0m     \u001b[38;5;28;43mself\u001b[39;49m\u001b[38;5;241;43m.\u001b[39;49m\u001b[43mexecute\u001b[49m\u001b[43m(\u001b[49m\u001b[43mCommand\u001b[49m\u001b[38;5;241;43m.\u001b[39;49m\u001b[43mGET\u001b[49m\u001b[43m,\u001b[49m\u001b[43m \u001b[49m\u001b[43m{\u001b[49m\u001b[38;5;124;43m'\u001b[39;49m\u001b[38;5;124;43murl\u001b[39;49m\u001b[38;5;124;43m'\u001b[39;49m\u001b[43m:\u001b[49m\u001b[43m \u001b[49m\u001b[43murl\u001b[49m\u001b[43m}\u001b[49m\u001b[43m)\u001b[49m\n",
      "File \u001b[0;32m~/opt/anaconda3/lib/python3.9/site-packages/selenium/webdriver/remote/webdriver.py:429\u001b[0m, in \u001b[0;36mWebDriver.execute\u001b[0;34m(self, driver_command, params)\u001b[0m\n\u001b[1;32m    427\u001b[0m response \u001b[38;5;241m=\u001b[39m \u001b[38;5;28mself\u001b[39m\u001b[38;5;241m.\u001b[39mcommand_executor\u001b[38;5;241m.\u001b[39mexecute(driver_command, params)\n\u001b[1;32m    428\u001b[0m \u001b[38;5;28;01mif\u001b[39;00m response:\n\u001b[0;32m--> 429\u001b[0m     \u001b[38;5;28;43mself\u001b[39;49m\u001b[38;5;241;43m.\u001b[39;49m\u001b[43merror_handler\u001b[49m\u001b[38;5;241;43m.\u001b[39;49m\u001b[43mcheck_response\u001b[49m\u001b[43m(\u001b[49m\u001b[43mresponse\u001b[49m\u001b[43m)\u001b[49m\n\u001b[1;32m    430\u001b[0m     response[\u001b[38;5;124m'\u001b[39m\u001b[38;5;124mvalue\u001b[39m\u001b[38;5;124m'\u001b[39m] \u001b[38;5;241m=\u001b[39m \u001b[38;5;28mself\u001b[39m\u001b[38;5;241m.\u001b[39m_unwrap_value(\n\u001b[1;32m    431\u001b[0m         response\u001b[38;5;241m.\u001b[39mget(\u001b[38;5;124m'\u001b[39m\u001b[38;5;124mvalue\u001b[39m\u001b[38;5;124m'\u001b[39m, \u001b[38;5;28;01mNone\u001b[39;00m))\n\u001b[1;32m    432\u001b[0m     \u001b[38;5;28;01mreturn\u001b[39;00m response\n",
      "File \u001b[0;32m~/opt/anaconda3/lib/python3.9/site-packages/selenium/webdriver/remote/errorhandler.py:243\u001b[0m, in \u001b[0;36mErrorHandler.check_response\u001b[0;34m(self, response)\u001b[0m\n\u001b[1;32m    241\u001b[0m         alert_text \u001b[38;5;241m=\u001b[39m value[\u001b[38;5;124m'\u001b[39m\u001b[38;5;124malert\u001b[39m\u001b[38;5;124m'\u001b[39m]\u001b[38;5;241m.\u001b[39mget(\u001b[38;5;124m'\u001b[39m\u001b[38;5;124mtext\u001b[39m\u001b[38;5;124m'\u001b[39m)\n\u001b[1;32m    242\u001b[0m     \u001b[38;5;28;01mraise\u001b[39;00m exception_class(message, screen, stacktrace, alert_text)  \u001b[38;5;66;03m# type: ignore[call-arg]  # mypy is not smart enough here\u001b[39;00m\n\u001b[0;32m--> 243\u001b[0m \u001b[38;5;28;01mraise\u001b[39;00m exception_class(message, screen, stacktrace)\n",
      "\u001b[0;31mWebDriverException\u001b[0m: Message: disconnected: Unable to receive message from renderer\n  (Session info: chrome=106.0.5249.91)\nStacktrace:\n0   chromedriver                        0x000000010bc3f788 chromedriver + 4515720\n1   chromedriver                        0x000000010bbc39d3 chromedriver + 4008403\n2   chromedriver                        0x000000010b85612a chromedriver + 413994\n3   chromedriver                        0x000000010b842b7f chromedriver + 334719\n4   chromedriver                        0x000000010b842301 chromedriver + 332545\n5   chromedriver                        0x000000010b85d6a3 chromedriver + 444067\n6   chromedriver                        0x000000010b8be028 chromedriver + 839720\n7   chromedriver                        0x000000010b8aa603 chromedriver + 759299\n8   chromedriver                        0x000000010b880990 chromedriver + 588176\n9   chromedriver                        0x000000010b881a75 chromedriver + 592501\n10  chromedriver                        0x000000010bc0f6cd chromedriver + 4318925\n11  chromedriver                        0x000000010bc13f35 chromedriver + 4337461\n12  chromedriver                        0x000000010bc1b1ff chromedriver + 4366847\n13  chromedriver                        0x000000010bc14c5a chromedriver + 4340826\n14  chromedriver                        0x000000010bbeac2c chromedriver + 4168748\n15  chromedriver                        0x000000010bc314f8 chromedriver + 4457720\n16  chromedriver                        0x000000010bc31693 chromedriver + 4458131\n17  chromedriver                        0x000000010bc46a3e chromedriver + 4545086\n18  libsystem_pthread.dylib             0x00007ff80232c4e1 _pthread_start + 125\n19  libsystem_pthread.dylib             0x00007ff802327f6b thread_start + 15\n"
     ]
    }
   ],
   "source": [
    "for i in tqdm(range(0,len(links))):\n",
    "    Properties_info(i)"
   ]
  },
  {
   "cell_type": "code",
   "execution_count": null,
   "id": "bc70fe18",
   "metadata": {},
   "outputs": [],
   "source": [
    "len(all_info)"
   ]
  },
  {
   "cell_type": "code",
   "execution_count": 120,
   "id": "b05c4bce",
   "metadata": {},
   "outputs": [],
   "source": [
    "filename = \"data/\"+today+\"-dataset.csv\"\n",
    "pd.DataFrame(all_info).to_csv(filename)"
   ]
  }
 ],
 "metadata": {
  "kernelspec": {
   "display_name": "Python 3 (ipykernel)",
   "language": "python",
   "name": "python3"
  },
  "language_info": {
   "codemirror_mode": {
    "name": "ipython",
    "version": 3
   },
   "file_extension": ".py",
   "mimetype": "text/x-python",
   "name": "python",
   "nbconvert_exporter": "python",
   "pygments_lexer": "ipython3",
   "version": "3.9.12"
  }
 },
 "nbformat": 4,
 "nbformat_minor": 5
}
