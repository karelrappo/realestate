{
 "cells": [
  {
   "cell_type": "code",
   "execution_count": 1,
   "id": "b23e4e9e",
   "metadata": {},
   "outputs": [],
   "source": [
    "import warnings\n",
    "warnings.filterwarnings(\"ignore\", category=DeprecationWarning)\n",
    "\n",
    "## added selenium code\n",
    "from selenium import webdriver\n",
    "import time\n",
    "from bs4 import BeautifulSoup\n",
    "## For parallel execution\n",
    "from multiprocessing import Pool\n",
    "from tqdm.auto import tqdm\n",
    "from datetime import date\n",
    "\n",
    "today = date.today().strftime('%Y-%m-%d')"
   ]
  },
  {
   "cell_type": "code",
   "execution_count": 2,
   "id": "0f981e98",
   "metadata": {},
   "outputs": [],
   "source": [
    "#Scrape data from all pages\n",
    "# Enable javascript and disable automation flag\n",
    "options = webdriver.ChromeOptions()\n",
    "options.add_argument(\"--enable-javascript\")\n",
    "options.add_argument(\"--dns-prefetch-disable\");\n",
    "options.add_argument(\"--disable-gpu\");\n",
    "options.add_argument(\"--disable-blink-features=AutomationControlled\")\n",
    "# start the instance\n",
    "driver = webdriver.Chrome(options=options)"
   ]
  },
  {
   "cell_type": "code",
   "execution_count": 3,
   "id": "695ab4e3",
   "metadata": {},
   "outputs": [],
   "source": [
    "def Parser(url):\n",
    "    \"\"\" Opens the URL passed to the function\"\"\"\n",
    "    driver.get(url)\n",
    "    return(driver)\n",
    "    \n",
    "def Get_Properties(pages):\n",
    "    \"\"\"Loops through all pages of listing, and saves their info into list.\"\"\"\n",
    "    all_links=[]\n",
    "    for i in tqdm(range(1,pages)):\n",
    "        Parser(f\"https://www.kv.ee/?act=search.simple&page_size=100&deal_type=1&county=1&search_type=new&parish=1061&page=[{i}]\")\n",
    "        try:\n",
    "            #accepts the cookies\n",
    "            driver.find_element_by_id(\"onetrust-accept-btn-handler\").click()\n",
    "        except:\n",
    "            pass\n",
    "        finally:\n",
    "            soup = BeautifulSoup(driver.page_source, 'html.parser')\n",
    "            properties = soup.find_all(\"tr\", class_=\"object-type-apartment object-item\")\n",
    "            for property in properties:\n",
    "                links = property.find_all(\"a\",{\"class\":\"object-title-a text-truncate\"})\n",
    "                for link in links:\n",
    "                    all_links.append(link['href'])\n",
    "    return(all_links)"
   ]
  },
  {
   "cell_type": "code",
   "execution_count": 4,
   "id": "82874afa",
   "metadata": {
    "scrolled": true
   },
   "outputs": [
    {
     "data": {
      "application/vnd.jupyter.widget-view+json": {
       "model_id": "9c557cb5d753431fad0c55699a7e5c18",
       "version_major": 2,
       "version_minor": 0
      },
      "text/plain": [
       "  0%|          | 0/24 [00:00<?, ?it/s]"
      ]
     },
     "metadata": {},
     "output_type": "display_data"
    }
   ],
   "source": [
    "##Generate the property list\n",
    "links = Get_Properties(25)"
   ]
  },
  {
   "cell_type": "code",
   "execution_count": 5,
   "id": "36c1a692",
   "metadata": {},
   "outputs": [],
   "source": [
    "\n",
    "all_info=[]\n",
    "def Properties_info(i):\n",
    "            d = {}\n",
    "            Parser(links[i])\n",
    "            try:\n",
    "                driver.find_element_by_id(\"onetrust-accept-btn-handler\").click()\n",
    "            except:\n",
    "                pass\n",
    "            finally:\n",
    "                soup = BeautifulSoup(driver.page_source, 'html.parser')\n",
    "                page_content = soup.find(\"div\", {\"class\":\"object-article-details\"})\n",
    "                price = page_content.find(\"div\",{\"class\":\"object-price\"}).findChildren()[0]\n",
    "                descr = soup.find(\"div\",{\"class\":\"object-article-body\"}).find(\"p\")\n",
    "                aadress= soup.find('h1',{'class':'title'}).get_text(strip=True)\n",
    "                #loop through rows in info table\n",
    "                for items in page_content.find('table',{\"class\":\"table-lined object-data-meta\"}).find_all('tr'):\n",
    "                    data = [item.get_text(strip=True) for item in items.find_all(['th','td'])]\n",
    "                    d[data[0]]=data[-1]\n",
    "                    d['url']=links[i]\n",
    "                    d['hind']=price.get_text(strip=True)\n",
    "                    d['aadress']=aadress\n",
    "                    d['description'] = descr\n",
    "                    d['date'] = today\n",
    "            all_info.append(d)"
   ]
  },
  {
   "cell_type": "code",
   "execution_count": 6,
   "id": "7491bae4",
   "metadata": {
    "scrolled": true
   },
   "outputs": [
    {
     "data": {
      "application/vnd.jupyter.widget-view+json": {
       "model_id": "1be02908e6744792b98817c46cdc2a33",
       "version_major": 2,
       "version_minor": 0
      },
      "text/plain": [
       "  0%|          | 0/2400 [00:00<?, ?it/s]"
      ]
     },
     "metadata": {},
     "output_type": "display_data"
    },
    {
     "ename": "TimeoutException",
     "evalue": "Message: timeout: Timed out receiving message from renderer: 299.561\n  (Session info: chrome=101.0.4951.67)\nStacktrace:\nBacktrace:\n\tOrdinal0 [0x00D0B8F3+2406643]\n\tOrdinal0 [0x00C9AF31+1945393]\n\tOrdinal0 [0x00B8C748+837448]\n\tOrdinal0 [0x00B7D9A0+776608]\n\tOrdinal0 [0x00B7C7C5+772037]\n\tOrdinal0 [0x00B7CDC8+773576]\n\tOrdinal0 [0x00B8792F+817455]\n\tOrdinal0 [0x00B9256B+861547]\n\tOrdinal0 [0x00B94F40+872256]\n\tOrdinal0 [0x00B7D096+774294]\n\tOrdinal0 [0x00B923B5+861109]\n\tOrdinal0 [0x00BE49CD+1198541]\n\tOrdinal0 [0x00BD4096+1130646]\n\tOrdinal0 [0x00BAE636+976438]\n\tOrdinal0 [0x00BAF546+980294]\n\tGetHandleVerifier [0x00F79612+2498066]\n\tGetHandleVerifier [0x00F6C920+2445600]\n\tGetHandleVerifier [0x00DA4F2A+579370]\n\tGetHandleVerifier [0x00DA3D36+574774]\n\tOrdinal0 [0x00CA1C0B+1973259]\n\tOrdinal0 [0x00CA6688+1992328]\n\tOrdinal0 [0x00CA6775+1992565]\n\tOrdinal0 [0x00CAF8D1+2029777]\n\tBaseThreadInitThunk [0x7733FA29+25]\n\tRtlGetAppContainerNamedObjectPath [0x77BC7A7E+286]\n\tRtlGetAppContainerNamedObjectPath [0x77BC7A4E+238]\n",
     "output_type": "error",
     "traceback": [
      "\u001b[1;31m---------------------------------------------------------------------------\u001b[0m",
      "\u001b[1;31mTimeoutException\u001b[0m                          Traceback (most recent call last)",
      "Input \u001b[1;32mIn [6]\u001b[0m, in \u001b[0;36m<cell line: 1>\u001b[1;34m()\u001b[0m\n\u001b[0;32m      1\u001b[0m \u001b[38;5;28;01mfor\u001b[39;00m i \u001b[38;5;129;01min\u001b[39;00m tqdm(\u001b[38;5;28mrange\u001b[39m(\u001b[38;5;241m0\u001b[39m,\u001b[38;5;28mlen\u001b[39m(links))):\n\u001b[1;32m----> 2\u001b[0m     \u001b[43mProperties_info\u001b[49m\u001b[43m(\u001b[49m\u001b[43mi\u001b[49m\u001b[43m)\u001b[49m\n",
      "Input \u001b[1;32mIn [5]\u001b[0m, in \u001b[0;36mProperties_info\u001b[1;34m(i)\u001b[0m\n\u001b[0;32m      2\u001b[0m \u001b[38;5;28;01mdef\u001b[39;00m \u001b[38;5;21mProperties_info\u001b[39m(i):\n\u001b[0;32m      3\u001b[0m             d \u001b[38;5;241m=\u001b[39m {}\n\u001b[1;32m----> 4\u001b[0m             \u001b[43mParser\u001b[49m\u001b[43m(\u001b[49m\u001b[43mlinks\u001b[49m\u001b[43m[\u001b[49m\u001b[43mi\u001b[49m\u001b[43m]\u001b[49m\u001b[43m)\u001b[49m\n\u001b[0;32m      5\u001b[0m             \u001b[38;5;28;01mtry\u001b[39;00m:\n\u001b[0;32m      6\u001b[0m                 driver\u001b[38;5;241m.\u001b[39mfind_element_by_id(\u001b[38;5;124m\"\u001b[39m\u001b[38;5;124monetrust-accept-btn-handler\u001b[39m\u001b[38;5;124m\"\u001b[39m)\u001b[38;5;241m.\u001b[39mclick()\n",
      "Input \u001b[1;32mIn [3]\u001b[0m, in \u001b[0;36mParser\u001b[1;34m(url)\u001b[0m\n\u001b[0;32m      1\u001b[0m \u001b[38;5;28;01mdef\u001b[39;00m \u001b[38;5;21mParser\u001b[39m(url):\n\u001b[0;32m      2\u001b[0m     \u001b[38;5;124;03m\"\"\" Opens the URL passed to the function\"\"\"\u001b[39;00m\n\u001b[1;32m----> 3\u001b[0m     \u001b[43mdriver\u001b[49m\u001b[38;5;241;43m.\u001b[39;49m\u001b[43mget\u001b[49m\u001b[43m(\u001b[49m\u001b[43murl\u001b[49m\u001b[43m)\u001b[49m\n\u001b[0;32m      4\u001b[0m     \u001b[38;5;28;01mreturn\u001b[39;00m(driver)\n",
      "File \u001b[1;32m~\\AppData\\Local\\Programs\\Python\\Python310\\lib\\site-packages\\selenium\\webdriver\\remote\\webdriver.py:442\u001b[0m, in \u001b[0;36mWebDriver.get\u001b[1;34m(self, url)\u001b[0m\n\u001b[0;32m    438\u001b[0m \u001b[38;5;28;01mdef\u001b[39;00m \u001b[38;5;21mget\u001b[39m(\u001b[38;5;28mself\u001b[39m, url: \u001b[38;5;28mstr\u001b[39m) \u001b[38;5;241m-\u001b[39m\u001b[38;5;241m>\u001b[39m \u001b[38;5;28;01mNone\u001b[39;00m:\n\u001b[0;32m    439\u001b[0m     \u001b[38;5;124;03m\"\"\"\u001b[39;00m\n\u001b[0;32m    440\u001b[0m \u001b[38;5;124;03m    Loads a web page in the current browser session.\u001b[39;00m\n\u001b[0;32m    441\u001b[0m \u001b[38;5;124;03m    \"\"\"\u001b[39;00m\n\u001b[1;32m--> 442\u001b[0m     \u001b[38;5;28;43mself\u001b[39;49m\u001b[38;5;241;43m.\u001b[39;49m\u001b[43mexecute\u001b[49m\u001b[43m(\u001b[49m\u001b[43mCommand\u001b[49m\u001b[38;5;241;43m.\u001b[39;49m\u001b[43mGET\u001b[49m\u001b[43m,\u001b[49m\u001b[43m \u001b[49m\u001b[43m{\u001b[49m\u001b[38;5;124;43m'\u001b[39;49m\u001b[38;5;124;43murl\u001b[39;49m\u001b[38;5;124;43m'\u001b[39;49m\u001b[43m:\u001b[49m\u001b[43m \u001b[49m\u001b[43murl\u001b[49m\u001b[43m}\u001b[49m\u001b[43m)\u001b[49m\n",
      "File \u001b[1;32m~\\AppData\\Local\\Programs\\Python\\Python310\\lib\\site-packages\\selenium\\webdriver\\remote\\webdriver.py:430\u001b[0m, in \u001b[0;36mWebDriver.execute\u001b[1;34m(self, driver_command, params)\u001b[0m\n\u001b[0;32m    428\u001b[0m response \u001b[38;5;241m=\u001b[39m \u001b[38;5;28mself\u001b[39m\u001b[38;5;241m.\u001b[39mcommand_executor\u001b[38;5;241m.\u001b[39mexecute(driver_command, params)\n\u001b[0;32m    429\u001b[0m \u001b[38;5;28;01mif\u001b[39;00m response:\n\u001b[1;32m--> 430\u001b[0m     \u001b[38;5;28;43mself\u001b[39;49m\u001b[38;5;241;43m.\u001b[39;49m\u001b[43merror_handler\u001b[49m\u001b[38;5;241;43m.\u001b[39;49m\u001b[43mcheck_response\u001b[49m\u001b[43m(\u001b[49m\u001b[43mresponse\u001b[49m\u001b[43m)\u001b[49m\n\u001b[0;32m    431\u001b[0m     response[\u001b[38;5;124m'\u001b[39m\u001b[38;5;124mvalue\u001b[39m\u001b[38;5;124m'\u001b[39m] \u001b[38;5;241m=\u001b[39m \u001b[38;5;28mself\u001b[39m\u001b[38;5;241m.\u001b[39m_unwrap_value(\n\u001b[0;32m    432\u001b[0m         response\u001b[38;5;241m.\u001b[39mget(\u001b[38;5;124m'\u001b[39m\u001b[38;5;124mvalue\u001b[39m\u001b[38;5;124m'\u001b[39m, \u001b[38;5;28;01mNone\u001b[39;00m))\n\u001b[0;32m    433\u001b[0m     \u001b[38;5;28;01mreturn\u001b[39;00m response\n",
      "File \u001b[1;32m~\\AppData\\Local\\Programs\\Python\\Python310\\lib\\site-packages\\selenium\\webdriver\\remote\\errorhandler.py:247\u001b[0m, in \u001b[0;36mErrorHandler.check_response\u001b[1;34m(self, response)\u001b[0m\n\u001b[0;32m    245\u001b[0m         alert_text \u001b[38;5;241m=\u001b[39m value[\u001b[38;5;124m'\u001b[39m\u001b[38;5;124malert\u001b[39m\u001b[38;5;124m'\u001b[39m]\u001b[38;5;241m.\u001b[39mget(\u001b[38;5;124m'\u001b[39m\u001b[38;5;124mtext\u001b[39m\u001b[38;5;124m'\u001b[39m)\n\u001b[0;32m    246\u001b[0m     \u001b[38;5;28;01mraise\u001b[39;00m exception_class(message, screen, stacktrace, alert_text)  \u001b[38;5;66;03m# type: ignore[call-arg]  # mypy is not smart enough here\u001b[39;00m\n\u001b[1;32m--> 247\u001b[0m \u001b[38;5;28;01mraise\u001b[39;00m exception_class(message, screen, stacktrace)\n",
      "\u001b[1;31mTimeoutException\u001b[0m: Message: timeout: Timed out receiving message from renderer: 299.561\n  (Session info: chrome=101.0.4951.67)\nStacktrace:\nBacktrace:\n\tOrdinal0 [0x00D0B8F3+2406643]\n\tOrdinal0 [0x00C9AF31+1945393]\n\tOrdinal0 [0x00B8C748+837448]\n\tOrdinal0 [0x00B7D9A0+776608]\n\tOrdinal0 [0x00B7C7C5+772037]\n\tOrdinal0 [0x00B7CDC8+773576]\n\tOrdinal0 [0x00B8792F+817455]\n\tOrdinal0 [0x00B9256B+861547]\n\tOrdinal0 [0x00B94F40+872256]\n\tOrdinal0 [0x00B7D096+774294]\n\tOrdinal0 [0x00B923B5+861109]\n\tOrdinal0 [0x00BE49CD+1198541]\n\tOrdinal0 [0x00BD4096+1130646]\n\tOrdinal0 [0x00BAE636+976438]\n\tOrdinal0 [0x00BAF546+980294]\n\tGetHandleVerifier [0x00F79612+2498066]\n\tGetHandleVerifier [0x00F6C920+2445600]\n\tGetHandleVerifier [0x00DA4F2A+579370]\n\tGetHandleVerifier [0x00DA3D36+574774]\n\tOrdinal0 [0x00CA1C0B+1973259]\n\tOrdinal0 [0x00CA6688+1992328]\n\tOrdinal0 [0x00CA6775+1992565]\n\tOrdinal0 [0x00CAF8D1+2029777]\n\tBaseThreadInitThunk [0x7733FA29+25]\n\tRtlGetAppContainerNamedObjectPath [0x77BC7A7E+286]\n\tRtlGetAppContainerNamedObjectPath [0x77BC7A4E+238]\n"
     ]
    }
   ],
   "source": [
    "for i in tqdm(range(0,len(links))):\n",
    "    Properties_info(i)"
   ]
  },
  {
   "cell_type": "code",
   "execution_count": 7,
   "id": "bc70fe18",
   "metadata": {},
   "outputs": [
    {
     "data": {
      "text/plain": [
       "19"
      ]
     },
     "execution_count": 7,
     "metadata": {},
     "output_type": "execute_result"
    }
   ],
   "source": [
    "len(all_info)"
   ]
  },
  {
   "cell_type": "code",
   "execution_count": 120,
   "id": "b05c4bce",
   "metadata": {},
   "outputs": [],
   "source": [
    "filename = \"data/\"+today+\"-dataset.csv\"\n",
    "pd.DataFrame(all_info).to_csv(filename)"
   ]
  }
 ],
 "metadata": {
  "kernelspec": {
   "display_name": "Python 3 (ipykernel)",
   "language": "python",
   "name": "python3"
  },
  "language_info": {
   "codemirror_mode": {
    "name": "ipython",
    "version": 3
   },
   "file_extension": ".py",
   "mimetype": "text/x-python",
   "name": "python",
   "nbconvert_exporter": "python",
   "pygments_lexer": "ipython3",
   "version": "3.10.2"
  }
 },
 "nbformat": 4,
 "nbformat_minor": 5
}
